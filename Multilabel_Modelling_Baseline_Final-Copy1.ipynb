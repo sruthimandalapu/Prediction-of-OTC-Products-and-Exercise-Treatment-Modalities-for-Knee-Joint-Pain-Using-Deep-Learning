{
 "cells": [
  {
   "cell_type": "markdown",
   "id": "95a7c7d1-d198-474c-b945-34564fc5af29",
   "metadata": {},
   "source": [
    "### Sklearn Synthetic Data For Model Baseline\n"
   ]
  },
  {
   "cell_type": "code",
   "execution_count": 1,
   "id": "1fc4cce9-3e9a-43bf-a3bb-d7542960f886",
   "metadata": {},
   "outputs": [],
   "source": [
    "import numpy as np\n",
    "import pandas as pd\n",
    "import matplotlib.pyplot as plt\n",
    "from scipy import linalg\n",
    "from sklearn.datasets import make_multilabel_classification as mlc"
   ]
  },
  {
   "cell_type": "code",
   "execution_count": 2,
   "id": "8e7aa68e-8d30-4e7b-96ea-8d2cb0b56d86",
   "metadata": {},
   "outputs": [],
   "source": [
    "import tensorflow as tf\n",
    "import keras\n",
    "from keras import layers\n",
    "from keras.optimizers import SGD\n",
    "from keras.metrics import BinaryAccuracy"
   ]
  },
  {
   "cell_type": "code",
   "execution_count": 3,
   "id": "2e225d6a-8b88-483f-9aa7-5526ec5a4e6c",
   "metadata": {},
   "outputs": [],
   "source": [
    "df = pd.read_csv(\"synthetic_data_final.csv\",index_col=\"index\")"
   ]
  },
  {
   "cell_type": "code",
   "execution_count": 4,
   "id": "49377bfa-fe22-400c-b474-4248a8f79577",
   "metadata": {},
   "outputs": [],
   "source": [
    "df = df.assign(OTC1PostPainCat=pd.cut(df[\"OTC1PostPain\"],bins=[0,2,5,20],labels=[\"Low\",\"Medium\",\"High\"]))\n",
    "df = df.assign(OTC2PostPainCat=pd.cut(df[\"OTC2PostPain\"],bins=[0,2,5,20],labels=[\"Low\",\"Medium\",\"High\"]))\n",
    "df = df.assign(OTC3PostPainCat=pd.cut(df[\"OTC3PostPain\"],bins=[0,2,5,20],labels=[\"Low\",\"Medium\",\"High\"]))\n",
    "df = df.assign(Exe1PostPainCat=pd.cut(df[\"Exe1PostPain\"],bins=[0,2,5,20],labels=[\"Low\",\"Medium\",\"High\"]))\n",
    "df = df.assign(Exe2PostPainCat=pd.cut(df[\"Exe2PostPain\"],bins=[0,2,5,20],labels=[\"Low\",\"Medium\",\"High\"]))\n",
    "df = df.assign(Exe3PostPainCat=pd.cut(df[\"Exe3PostPain\"],bins=[0,2,5,20],labels=[\"Low\",\"Medium\",\"High\"]))"
   ]
  },
  {
   "cell_type": "code",
   "execution_count": 5,
   "id": "25dbb91d-bbe4-43ff-a140-e0061f65420d",
   "metadata": {},
   "outputs": [
    {
     "data": {
      "text/plain": [
       "Index(['OTCAge', 'OTCGender', 'OTCRegion', 'OTCEmployment', 'OTCEducation',\n",
       "       'OTCRace', 'OTCIncome', 'OTCSpanish', 'OTCStand', 'OTCJobCategory',\n",
       "       ...\n",
       "       'Exe3UseSameTime', 'Exe3WhyStop_NoPain', 'Exe3WhyStop_ReducePain',\n",
       "       'Exe3WhyStop_Prescription', 'OTC1PostPainCat', 'OTC2PostPainCat',\n",
       "       'OTC3PostPainCat', 'Exe1PostPainCat', 'Exe2PostPainCat',\n",
       "       'Exe3PostPainCat'],\n",
       "      dtype='object', length=230)"
      ]
     },
     "execution_count": 5,
     "metadata": {},
     "output_type": "execute_result"
    }
   ],
   "source": [
    "df.drop(columns=[\"Unnamed: 0\",\"bmi\",\"education-num\",\"hours-per-week\",\"OTC1NSAID\",\"OTC1Acetaminophen\",\"OTC1Anasthetic\",\"OTC1Supplements\",\"OTC1Device\",\n",
    "                \"OTC2NSAID\",\"OTC2Acetaminophen\",\"OTC2Anasthetic\",\"OTC2Supplements\",\"OTC2Device\",\n",
    "                \"OTC3NSAID\",\"OTC3Acetaminophen\",\"OTC3Anasthetic\",\"OTC3Supplements\",\"OTC3Device\",\n",
    "                \"Exe1NSAID\",\"Exe1Acetaminophen\",\"Exe1Anasthetic\",\"Exe1Supplements\",\"Exe1Device\",\n",
    "                \"Exe2NSAID\",\"Exe2Acetaminophen\",\"Exe2Anasthetic\",\"Exe2Supplements\",\"Exe2Device\",\n",
    "                \"Exe3NSAID\",\"Exe3Acetaminophen\",\"Exe3Anasthetic\",\"Exe3Supplements\",\"Exe3Device\",\n",
    "                \"OTCJobTitle\",\"OTC1PostPain\",\"OTC2PostPain\",\"OTC3PostPain\",\"Exe1PostPain\",\"Exe2PostPain\",\"Exe3PostPain\"],inplace=True)\n",
    "df.columns"
   ]
  },
  {
   "cell_type": "code",
   "execution_count": 6,
   "id": "835d5348-c8c4-4543-baaf-e614a58eefe9",
   "metadata": {},
   "outputs": [
    {
     "data": {
      "text/plain": [
       "(1845, 448)"
      ]
     },
     "execution_count": 6,
     "metadata": {},
     "output_type": "execute_result"
    }
   ],
   "source": [
    "df1 = pd.get_dummies(df)\n",
    "df1.shape                   "
   ]
  },
  {
   "cell_type": "code",
   "execution_count": 7,
   "id": "5232b54d-ad95-4860-9231-823dd939de8c",
   "metadata": {},
   "outputs": [],
   "source": [
    "cols = list(df1.columns)\n",
    "#cols[235:431]"
   ]
  },
  {
   "cell_type": "code",
   "execution_count": 8,
   "id": "6a5a6f99-6505-4d07-9608-a8a23dc0a846",
   "metadata": {},
   "outputs": [],
   "source": [
    "otc_exe_cols=cols[235:431]\n",
    "postpain_cols = cols[431:]"
   ]
  },
  {
   "cell_type": "code",
   "execution_count": 9,
   "id": "32ae3ae8-7ea9-4eae-9d1a-a41484c4478c",
   "metadata": {},
   "outputs": [],
   "source": [
    "from  sklearn.model_selection import train_test_split\n",
    "\n",
    "X = df1[cols[:235]]\n",
    "y = df1[cols[235:]]\n",
    "X_train,X_tst,y_train,y_tst = train_test_split(X,y,test_size=0.3,random_state=42)"
   ]
  },
  {
   "cell_type": "code",
   "execution_count": 10,
   "id": "23224f42-cbdc-4f09-892c-c6fd92bd412e",
   "metadata": {},
   "outputs": [],
   "source": [
    "y_otc_train = y_train[otc_exe_cols]\n",
    "y_pain_train = y_train[postpain_cols]\n",
    "\n",
    "y_otc_test = y_tst[otc_exe_cols]\n",
    "y_pain_test = y_tst[postpain_cols]"
   ]
  },
  {
   "cell_type": "code",
   "execution_count": 11,
   "id": "7a1fcc83-7b64-4be6-8fe0-d6f1e0351b65",
   "metadata": {},
   "outputs": [
    {
     "data": {
      "text/plain": [
       "(554, 17)"
      ]
     },
     "execution_count": 11,
     "metadata": {},
     "output_type": "execute_result"
    }
   ],
   "source": [
    "y_pain_test.shape"
   ]
  },
  {
   "cell_type": "markdown",
   "id": "0ea8e313-7110-438d-8482-d775c815329a",
   "metadata": {},
   "source": [
    "MultiClass Classification"
   ]
  },
  {
   "cell_type": "code",
   "execution_count": 27,
   "id": "10a2124d-76da-46fd-a81c-3db74e1797a8",
   "metadata": {
    "scrolled": true
   },
   "outputs": [
    {
     "data": {
      "text/html": [
       "<pre style=\"white-space:pre;overflow-x:auto;line-height:normal;font-family:Menlo,'DejaVu Sans Mono',consolas,'Courier New',monospace\"><span style=\"font-weight: bold\">Model: \"sequential_1\"</span>\n",
       "</pre>\n"
      ],
      "text/plain": [
       "\u001b[1mModel: \"sequential_1\"\u001b[0m\n"
      ]
     },
     "metadata": {},
     "output_type": "display_data"
    },
    {
     "data": {
      "text/html": [
       "<pre style=\"white-space:pre;overflow-x:auto;line-height:normal;font-family:Menlo,'DejaVu Sans Mono',consolas,'Courier New',monospace\">┏━━━━━━━━━━━━━━━━━━━━━━━━━━━━━━━━━━━━━━┳━━━━━━━━━━━━━━━━━━━━━━━━━━━━━┳━━━━━━━━━━━━━━━━━┓\n",
       "┃<span style=\"font-weight: bold\"> Layer (type)                         </span>┃<span style=\"font-weight: bold\"> Output Shape                </span>┃<span style=\"font-weight: bold\">         Param # </span>┃\n",
       "┡━━━━━━━━━━━━━━━━━━━━━━━━━━━━━━━━━━━━━━╇━━━━━━━━━━━━━━━━━━━━━━━━━━━━━╇━━━━━━━━━━━━━━━━━┩\n",
       "│ dense_5 (<span style=\"color: #0087ff; text-decoration-color: #0087ff\">Dense</span>)                      │ (<span style=\"color: #00d7ff; text-decoration-color: #00d7ff\">None</span>, <span style=\"color: #00af00; text-decoration-color: #00af00\">235</span>)                 │          <span style=\"color: #00af00; text-decoration-color: #00af00\">55,460</span> │\n",
       "├──────────────────────────────────────┼─────────────────────────────┼─────────────────┤\n",
       "│ dense_6 (<span style=\"color: #0087ff; text-decoration-color: #0087ff\">Dense</span>)                      │ (<span style=\"color: #00d7ff; text-decoration-color: #00d7ff\">None</span>, <span style=\"color: #00af00; text-decoration-color: #00af00\">200</span>)                 │          <span style=\"color: #00af00; text-decoration-color: #00af00\">47,200</span> │\n",
       "├──────────────────────────────────────┼─────────────────────────────┼─────────────────┤\n",
       "│ dense_7 (<span style=\"color: #0087ff; text-decoration-color: #0087ff\">Dense</span>)                      │ (<span style=\"color: #00d7ff; text-decoration-color: #00d7ff\">None</span>, <span style=\"color: #00af00; text-decoration-color: #00af00\">200</span>)                 │          <span style=\"color: #00af00; text-decoration-color: #00af00\">40,200</span> │\n",
       "├──────────────────────────────────────┼─────────────────────────────┼─────────────────┤\n",
       "│ dense_8 (<span style=\"color: #0087ff; text-decoration-color: #0087ff\">Dense</span>)                      │ (<span style=\"color: #00d7ff; text-decoration-color: #00d7ff\">None</span>, <span style=\"color: #00af00; text-decoration-color: #00af00\">200</span>)                 │          <span style=\"color: #00af00; text-decoration-color: #00af00\">40,200</span> │\n",
       "├──────────────────────────────────────┼─────────────────────────────┼─────────────────┤\n",
       "│ dense_9 (<span style=\"color: #0087ff; text-decoration-color: #0087ff\">Dense</span>)                      │ (<span style=\"color: #00d7ff; text-decoration-color: #00d7ff\">None</span>, <span style=\"color: #00af00; text-decoration-color: #00af00\">196</span>)                 │          <span style=\"color: #00af00; text-decoration-color: #00af00\">39,396</span> │\n",
       "└──────────────────────────────────────┴─────────────────────────────┴─────────────────┘\n",
       "</pre>\n"
      ],
      "text/plain": [
       "┏━━━━━━━━━━━━━━━━━━━━━━━━━━━━━━━━━━━━━━┳━━━━━━━━━━━━━━━━━━━━━━━━━━━━━┳━━━━━━━━━━━━━━━━━┓\n",
       "┃\u001b[1m \u001b[0m\u001b[1mLayer (type)                        \u001b[0m\u001b[1m \u001b[0m┃\u001b[1m \u001b[0m\u001b[1mOutput Shape               \u001b[0m\u001b[1m \u001b[0m┃\u001b[1m \u001b[0m\u001b[1m        Param #\u001b[0m\u001b[1m \u001b[0m┃\n",
       "┡━━━━━━━━━━━━━━━━━━━━━━━━━━━━━━━━━━━━━━╇━━━━━━━━━━━━━━━━━━━━━━━━━━━━━╇━━━━━━━━━━━━━━━━━┩\n",
       "│ dense_5 (\u001b[38;5;33mDense\u001b[0m)                      │ (\u001b[38;5;45mNone\u001b[0m, \u001b[38;5;34m235\u001b[0m)                 │          \u001b[38;5;34m55,460\u001b[0m │\n",
       "├──────────────────────────────────────┼─────────────────────────────┼─────────────────┤\n",
       "│ dense_6 (\u001b[38;5;33mDense\u001b[0m)                      │ (\u001b[38;5;45mNone\u001b[0m, \u001b[38;5;34m200\u001b[0m)                 │          \u001b[38;5;34m47,200\u001b[0m │\n",
       "├──────────────────────────────────────┼─────────────────────────────┼─────────────────┤\n",
       "│ dense_7 (\u001b[38;5;33mDense\u001b[0m)                      │ (\u001b[38;5;45mNone\u001b[0m, \u001b[38;5;34m200\u001b[0m)                 │          \u001b[38;5;34m40,200\u001b[0m │\n",
       "├──────────────────────────────────────┼─────────────────────────────┼─────────────────┤\n",
       "│ dense_8 (\u001b[38;5;33mDense\u001b[0m)                      │ (\u001b[38;5;45mNone\u001b[0m, \u001b[38;5;34m200\u001b[0m)                 │          \u001b[38;5;34m40,200\u001b[0m │\n",
       "├──────────────────────────────────────┼─────────────────────────────┼─────────────────┤\n",
       "│ dense_9 (\u001b[38;5;33mDense\u001b[0m)                      │ (\u001b[38;5;45mNone\u001b[0m, \u001b[38;5;34m196\u001b[0m)                 │          \u001b[38;5;34m39,396\u001b[0m │\n",
       "└──────────────────────────────────────┴─────────────────────────────┴─────────────────┘\n"
      ]
     },
     "metadata": {},
     "output_type": "display_data"
    },
    {
     "data": {
      "text/html": [
       "<pre style=\"white-space:pre;overflow-x:auto;line-height:normal;font-family:Menlo,'DejaVu Sans Mono',consolas,'Courier New',monospace\"><span style=\"font-weight: bold\"> Total params: </span><span style=\"color: #00af00; text-decoration-color: #00af00\">222,456</span> (868.97 KB)\n",
       "</pre>\n"
      ],
      "text/plain": [
       "\u001b[1m Total params: \u001b[0m\u001b[38;5;34m222,456\u001b[0m (868.97 KB)\n"
      ]
     },
     "metadata": {},
     "output_type": "display_data"
    },
    {
     "data": {
      "text/html": [
       "<pre style=\"white-space:pre;overflow-x:auto;line-height:normal;font-family:Menlo,'DejaVu Sans Mono',consolas,'Courier New',monospace\"><span style=\"font-weight: bold\"> Trainable params: </span><span style=\"color: #00af00; text-decoration-color: #00af00\">222,456</span> (868.97 KB)\n",
       "</pre>\n"
      ],
      "text/plain": [
       "\u001b[1m Trainable params: \u001b[0m\u001b[38;5;34m222,456\u001b[0m (868.97 KB)\n"
      ]
     },
     "metadata": {},
     "output_type": "display_data"
    },
    {
     "data": {
      "text/html": [
       "<pre style=\"white-space:pre;overflow-x:auto;line-height:normal;font-family:Menlo,'DejaVu Sans Mono',consolas,'Courier New',monospace\"><span style=\"font-weight: bold\"> Non-trainable params: </span><span style=\"color: #00af00; text-decoration-color: #00af00\">0</span> (0.00 B)\n",
       "</pre>\n"
      ],
      "text/plain": [
       "\u001b[1m Non-trainable params: \u001b[0m\u001b[38;5;34m0\u001b[0m (0.00 B)\n"
      ]
     },
     "metadata": {},
     "output_type": "display_data"
    }
   ],
   "source": [
    "model = keras.Sequential()\n",
    "model.add(layers.Dense(235,activation=\"relu\",input_shape=(X_train.shape[1],)))\n",
    "model.add(layers.Dense(200,activation=\"relu\"))\n",
    "model.add(layers.Dense(200,activation=\"relu\"))\n",
    "model.add(layers.Dense(200,activation=\"relu\"))   \n",
    "model.add(layers.Dense(y_otc_train.shape[1],activation=\"sigmoid\"))\n",
    "model.summary()"
   ]
  },
  {
   "cell_type": "code",
   "execution_count": 29,
   "id": "a3dc789b-8bee-4579-ba05-b46ff7cdacd3",
   "metadata": {},
   "outputs": [
    {
     "name": "stdout",
     "output_type": "stream",
     "text": [
      "Epoch 1/100\n",
      "\u001b[1m11/11\u001b[0m \u001b[32m━━━━━━━━━━━━━━━━━━━━\u001b[0m\u001b[37m\u001b[0m \u001b[1m1s\u001b[0m 20ms/step - binary_accuracy: 0.5645 - loss: 0.7519 - val_binary_accuracy: 0.6019 - val_loss: 0.6762\n",
      "Epoch 2/100\n",
      "\u001b[1m11/11\u001b[0m \u001b[32m━━━━━━━━━━━━━━━━━━━━\u001b[0m\u001b[37m\u001b[0m \u001b[1m0s\u001b[0m 5ms/step - binary_accuracy: 0.6125 - loss: 0.6604 - val_binary_accuracy: 0.6420 - val_loss: 0.6247\n",
      "Epoch 3/100\n",
      "\u001b[1m11/11\u001b[0m \u001b[32m━━━━━━━━━━━━━━━━━━━━\u001b[0m\u001b[37m\u001b[0m \u001b[1m0s\u001b[0m 5ms/step - binary_accuracy: 0.6497 - loss: 0.6152 - val_binary_accuracy: 0.6789 - val_loss: 0.5871\n",
      "Epoch 4/100\n",
      "\u001b[1m11/11\u001b[0m \u001b[32m━━━━━━━━━━━━━━━━━━━━\u001b[0m\u001b[37m\u001b[0m \u001b[1m0s\u001b[0m 6ms/step - binary_accuracy: 0.6863 - loss: 0.5786 - val_binary_accuracy: 0.7123 - val_loss: 0.5533\n",
      "Epoch 5/100\n",
      "\u001b[1m11/11\u001b[0m \u001b[32m━━━━━━━━━━━━━━━━━━━━\u001b[0m\u001b[37m\u001b[0m \u001b[1m0s\u001b[0m 5ms/step - binary_accuracy: 0.7200 - loss: 0.5450 - val_binary_accuracy: 0.7442 - val_loss: 0.5198\n",
      "Epoch 6/100\n",
      "\u001b[1m11/11\u001b[0m \u001b[32m━━━━━━━━━━━━━━━━━━━━\u001b[0m\u001b[37m\u001b[0m \u001b[1m0s\u001b[0m 5ms/step - binary_accuracy: 0.7539 - loss: 0.5119 - val_binary_accuracy: 0.7749 - val_loss: 0.4848\n",
      "Epoch 7/100\n",
      "\u001b[1m11/11\u001b[0m \u001b[32m━━━━━━━━━━━━━━━━━━━━\u001b[0m\u001b[37m\u001b[0m \u001b[1m0s\u001b[0m 4ms/step - binary_accuracy: 0.7841 - loss: 0.4771 - val_binary_accuracy: 0.8046 - val_loss: 0.4474\n",
      "Epoch 8/100\n",
      "\u001b[1m11/11\u001b[0m \u001b[32m━━━━━━━━━━━━━━━━━━━━\u001b[0m\u001b[37m\u001b[0m \u001b[1m0s\u001b[0m 4ms/step - binary_accuracy: 0.8141 - loss: 0.4389 - val_binary_accuracy: 0.8372 - val_loss: 0.4074\n",
      "Epoch 9/100\n",
      "\u001b[1m11/11\u001b[0m \u001b[32m━━━━━━━━━━━━━━━━━━━━\u001b[0m\u001b[37m\u001b[0m \u001b[1m0s\u001b[0m 5ms/step - binary_accuracy: 0.8458 - loss: 0.3975 - val_binary_accuracy: 0.8714 - val_loss: 0.3655\n",
      "Epoch 10/100\n",
      "\u001b[1m11/11\u001b[0m \u001b[32m━━━━━━━━━━━━━━━━━━━━\u001b[0m\u001b[37m\u001b[0m \u001b[1m0s\u001b[0m 4ms/step - binary_accuracy: 0.8803 - loss: 0.3553 - val_binary_accuracy: 0.9061 - val_loss: 0.3234\n",
      "Epoch 11/100\n",
      "\u001b[1m11/11\u001b[0m \u001b[32m━━━━━━━━━━━━━━━━━━━━\u001b[0m\u001b[37m\u001b[0m \u001b[1m0s\u001b[0m 5ms/step - binary_accuracy: 0.9136 - loss: 0.3145 - val_binary_accuracy: 0.9353 - val_loss: 0.2835\n",
      "Epoch 12/100\n",
      "\u001b[1m11/11\u001b[0m \u001b[32m━━━━━━━━━━━━━━━━━━━━\u001b[0m\u001b[37m\u001b[0m \u001b[1m0s\u001b[0m 5ms/step - binary_accuracy: 0.9393 - loss: 0.2753 - val_binary_accuracy: 0.9530 - val_loss: 0.2487\n",
      "Epoch 13/100\n",
      "\u001b[1m11/11\u001b[0m \u001b[32m━━━━━━━━━━━━━━━━━━━━\u001b[0m\u001b[37m\u001b[0m \u001b[1m0s\u001b[0m 4ms/step - binary_accuracy: 0.9565 - loss: 0.2434 - val_binary_accuracy: 0.9662 - val_loss: 0.2207\n",
      "Epoch 14/100\n",
      "\u001b[1m11/11\u001b[0m \u001b[32m━━━━━━━━━━━━━━━━━━━━\u001b[0m\u001b[37m\u001b[0m \u001b[1m0s\u001b[0m 4ms/step - binary_accuracy: 0.9671 - loss: 0.2155 - val_binary_accuracy: 0.9697 - val_loss: 0.2001\n",
      "Epoch 15/100\n",
      "\u001b[1m11/11\u001b[0m \u001b[32m━━━━━━━━━━━━━━━━━━━━\u001b[0m\u001b[37m\u001b[0m \u001b[1m0s\u001b[0m 4ms/step - binary_accuracy: 0.9696 - loss: 0.1949 - val_binary_accuracy: 0.9699 - val_loss: 0.1857\n",
      "Epoch 16/100\n",
      "\u001b[1m11/11\u001b[0m \u001b[32m━━━━━━━━━━━━━━━━━━━━\u001b[0m\u001b[37m\u001b[0m \u001b[1m0s\u001b[0m 4ms/step - binary_accuracy: 0.9696 - loss: 0.1826 - val_binary_accuracy: 0.9698 - val_loss: 0.1758\n",
      "Epoch 17/100\n",
      "\u001b[1m11/11\u001b[0m \u001b[32m━━━━━━━━━━━━━━━━━━━━\u001b[0m\u001b[37m\u001b[0m \u001b[1m0s\u001b[0m 4ms/step - binary_accuracy: 0.9696 - loss: 0.1734 - val_binary_accuracy: 0.9697 - val_loss: 0.1693\n",
      "Epoch 18/100\n",
      "\u001b[1m11/11\u001b[0m \u001b[32m━━━━━━━━━━━━━━━━━━━━\u001b[0m\u001b[37m\u001b[0m \u001b[1m0s\u001b[0m 4ms/step - binary_accuracy: 0.9696 - loss: 0.1660 - val_binary_accuracy: 0.9696 - val_loss: 0.1646\n",
      "Epoch 19/100\n",
      "\u001b[1m11/11\u001b[0m \u001b[32m━━━━━━━━━━━━━━━━━━━━\u001b[0m\u001b[37m\u001b[0m \u001b[1m0s\u001b[0m 4ms/step - binary_accuracy: 0.9696 - loss: 0.1609 - val_binary_accuracy: 0.9696 - val_loss: 0.1613\n",
      "Epoch 20/100\n",
      "\u001b[1m11/11\u001b[0m \u001b[32m━━━━━━━━━━━━━━━━━━━━\u001b[0m\u001b[37m\u001b[0m \u001b[1m0s\u001b[0m 4ms/step - binary_accuracy: 0.9697 - loss: 0.1577 - val_binary_accuracy: 0.9696 - val_loss: 0.1589\n",
      "Epoch 21/100\n",
      "\u001b[1m11/11\u001b[0m \u001b[32m━━━━━━━━━━━━━━━━━━━━\u001b[0m\u001b[37m\u001b[0m \u001b[1m0s\u001b[0m 4ms/step - binary_accuracy: 0.9696 - loss: 0.1551 - val_binary_accuracy: 0.9696 - val_loss: 0.1570\n",
      "Epoch 22/100\n",
      "\u001b[1m11/11\u001b[0m \u001b[32m━━━━━━━━━━━━━━━━━━━━\u001b[0m\u001b[37m\u001b[0m \u001b[1m0s\u001b[0m 4ms/step - binary_accuracy: 0.9696 - loss: 0.1534 - val_binary_accuracy: 0.9697 - val_loss: 0.1554\n",
      "Epoch 23/100\n",
      "\u001b[1m11/11\u001b[0m \u001b[32m━━━━━━━━━━━━━━━━━━━━\u001b[0m\u001b[37m\u001b[0m \u001b[1m0s\u001b[0m 4ms/step - binary_accuracy: 0.9696 - loss: 0.1524 - val_binary_accuracy: 0.9697 - val_loss: 0.1541\n",
      "Epoch 24/100\n",
      "\u001b[1m11/11\u001b[0m \u001b[32m━━━━━━━━━━━━━━━━━━━━\u001b[0m\u001b[37m\u001b[0m \u001b[1m0s\u001b[0m 5ms/step - binary_accuracy: 0.9696 - loss: 0.1523 - val_binary_accuracy: 0.9698 - val_loss: 0.1529\n",
      "Epoch 25/100\n",
      "\u001b[1m11/11\u001b[0m \u001b[32m━━━━━━━━━━━━━━━━━━━━\u001b[0m\u001b[37m\u001b[0m \u001b[1m0s\u001b[0m 5ms/step - binary_accuracy: 0.9698 - loss: 0.1485 - val_binary_accuracy: 0.9699 - val_loss: 0.1519\n",
      "Epoch 26/100\n",
      "\u001b[1m11/11\u001b[0m \u001b[32m━━━━━━━━━━━━━━━━━━━━\u001b[0m\u001b[37m\u001b[0m \u001b[1m0s\u001b[0m 5ms/step - binary_accuracy: 0.9699 - loss: 0.1481 - val_binary_accuracy: 0.9700 - val_loss: 0.1510\n",
      "Epoch 27/100\n",
      "\u001b[1m11/11\u001b[0m \u001b[32m━━━━━━━━━━━━━━━━━━━━\u001b[0m\u001b[37m\u001b[0m \u001b[1m0s\u001b[0m 4ms/step - binary_accuracy: 0.9698 - loss: 0.1486 - val_binary_accuracy: 0.9701 - val_loss: 0.1502\n",
      "Epoch 28/100\n",
      "\u001b[1m11/11\u001b[0m \u001b[32m━━━━━━━━━━━━━━━━━━━━\u001b[0m\u001b[37m\u001b[0m \u001b[1m0s\u001b[0m 4ms/step - binary_accuracy: 0.9701 - loss: 0.1446 - val_binary_accuracy: 0.9701 - val_loss: 0.1494\n",
      "Epoch 29/100\n",
      "\u001b[1m11/11\u001b[0m \u001b[32m━━━━━━━━━━━━━━━━━━━━\u001b[0m\u001b[37m\u001b[0m \u001b[1m0s\u001b[0m 4ms/step - binary_accuracy: 0.9700 - loss: 0.1465 - val_binary_accuracy: 0.9702 - val_loss: 0.1487\n",
      "Epoch 30/100\n",
      "\u001b[1m11/11\u001b[0m \u001b[32m━━━━━━━━━━━━━━━━━━━━\u001b[0m\u001b[37m\u001b[0m \u001b[1m0s\u001b[0m 5ms/step - binary_accuracy: 0.9701 - loss: 0.1446 - val_binary_accuracy: 0.9703 - val_loss: 0.1480\n",
      "Epoch 31/100\n",
      "\u001b[1m11/11\u001b[0m \u001b[32m━━━━━━━━━━━━━━━━━━━━\u001b[0m\u001b[37m\u001b[0m \u001b[1m0s\u001b[0m 4ms/step - binary_accuracy: 0.9702 - loss: 0.1449 - val_binary_accuracy: 0.9703 - val_loss: 0.1474\n",
      "Epoch 32/100\n",
      "\u001b[1m11/11\u001b[0m \u001b[32m━━━━━━━━━━━━━━━━━━━━\u001b[0m\u001b[37m\u001b[0m \u001b[1m0s\u001b[0m 5ms/step - binary_accuracy: 0.9704 - loss: 0.1430 - val_binary_accuracy: 0.9704 - val_loss: 0.1468\n",
      "Epoch 33/100\n",
      "\u001b[1m11/11\u001b[0m \u001b[32m━━━━━━━━━━━━━━━━━━━━\u001b[0m\u001b[37m\u001b[0m \u001b[1m0s\u001b[0m 5ms/step - binary_accuracy: 0.9706 - loss: 0.1396 - val_binary_accuracy: 0.9706 - val_loss: 0.1462\n",
      "Epoch 34/100\n",
      "\u001b[1m11/11\u001b[0m \u001b[32m━━━━━━━━━━━━━━━━━━━━\u001b[0m\u001b[37m\u001b[0m \u001b[1m0s\u001b[0m 4ms/step - binary_accuracy: 0.9707 - loss: 0.1412 - val_binary_accuracy: 0.9708 - val_loss: 0.1456\n",
      "Epoch 35/100\n",
      "\u001b[1m11/11\u001b[0m \u001b[32m━━━━━━━━━━━━━━━━━━━━\u001b[0m\u001b[37m\u001b[0m \u001b[1m0s\u001b[0m 4ms/step - binary_accuracy: 0.9707 - loss: 0.1403 - val_binary_accuracy: 0.9708 - val_loss: 0.1451\n",
      "Epoch 36/100\n",
      "\u001b[1m11/11\u001b[0m \u001b[32m━━━━━━━━━━━━━━━━━━━━\u001b[0m\u001b[37m\u001b[0m \u001b[1m0s\u001b[0m 4ms/step - binary_accuracy: 0.9710 - loss: 0.1399 - val_binary_accuracy: 0.9709 - val_loss: 0.1445\n",
      "Epoch 37/100\n",
      "\u001b[1m11/11\u001b[0m \u001b[32m━━━━━━━━━━━━━━━━━━━━\u001b[0m\u001b[37m\u001b[0m \u001b[1m0s\u001b[0m 4ms/step - binary_accuracy: 0.9711 - loss: 0.1394 - val_binary_accuracy: 0.9710 - val_loss: 0.1440\n",
      "Epoch 38/100\n",
      "\u001b[1m11/11\u001b[0m \u001b[32m━━━━━━━━━━━━━━━━━━━━\u001b[0m\u001b[37m\u001b[0m \u001b[1m0s\u001b[0m 5ms/step - binary_accuracy: 0.9713 - loss: 0.1381 - val_binary_accuracy: 0.9712 - val_loss: 0.1435\n",
      "Epoch 39/100\n",
      "\u001b[1m11/11\u001b[0m \u001b[32m━━━━━━━━━━━━━━━━━━━━\u001b[0m\u001b[37m\u001b[0m \u001b[1m0s\u001b[0m 5ms/step - binary_accuracy: 0.9710 - loss: 0.1385 - val_binary_accuracy: 0.9713 - val_loss: 0.1430\n",
      "Epoch 40/100\n",
      "\u001b[1m11/11\u001b[0m \u001b[32m━━━━━━━━━━━━━━━━━━━━\u001b[0m\u001b[37m\u001b[0m \u001b[1m0s\u001b[0m 5ms/step - binary_accuracy: 0.9718 - loss: 0.1361 - val_binary_accuracy: 0.9713 - val_loss: 0.1426\n",
      "Epoch 41/100\n",
      "\u001b[1m11/11\u001b[0m \u001b[32m━━━━━━━━━━━━━━━━━━━━\u001b[0m\u001b[37m\u001b[0m \u001b[1m0s\u001b[0m 4ms/step - binary_accuracy: 0.9715 - loss: 0.1382 - val_binary_accuracy: 0.9715 - val_loss: 0.1421\n",
      "Epoch 42/100\n",
      "\u001b[1m11/11\u001b[0m \u001b[32m━━━━━━━━━━━━━━━━━━━━\u001b[0m\u001b[37m\u001b[0m \u001b[1m0s\u001b[0m 4ms/step - binary_accuracy: 0.9713 - loss: 0.1385 - val_binary_accuracy: 0.9717 - val_loss: 0.1417\n",
      "Epoch 43/100\n",
      "\u001b[1m11/11\u001b[0m \u001b[32m━━━━━━━━━━━━━━━━━━━━\u001b[0m\u001b[37m\u001b[0m \u001b[1m0s\u001b[0m 5ms/step - binary_accuracy: 0.9719 - loss: 0.1377 - val_binary_accuracy: 0.9718 - val_loss: 0.1413\n",
      "Epoch 44/100\n",
      "\u001b[1m11/11\u001b[0m \u001b[32m━━━━━━━━━━━━━━━━━━━━\u001b[0m\u001b[37m\u001b[0m \u001b[1m0s\u001b[0m 4ms/step - binary_accuracy: 0.9723 - loss: 0.1365 - val_binary_accuracy: 0.9719 - val_loss: 0.1409\n",
      "Epoch 45/100\n",
      "\u001b[1m11/11\u001b[0m \u001b[32m━━━━━━━━━━━━━━━━━━━━\u001b[0m\u001b[37m\u001b[0m \u001b[1m0s\u001b[0m 4ms/step - binary_accuracy: 0.9728 - loss: 0.1332 - val_binary_accuracy: 0.9719 - val_loss: 0.1405\n",
      "Epoch 46/100\n",
      "\u001b[1m11/11\u001b[0m \u001b[32m━━━━━━━━━━━━━━━━━━━━\u001b[0m\u001b[37m\u001b[0m \u001b[1m0s\u001b[0m 4ms/step - binary_accuracy: 0.9724 - loss: 0.1350 - val_binary_accuracy: 0.9722 - val_loss: 0.1401\n",
      "Epoch 47/100\n",
      "\u001b[1m11/11\u001b[0m \u001b[32m━━━━━━━━━━━━━━━━━━━━\u001b[0m\u001b[37m\u001b[0m \u001b[1m0s\u001b[0m 4ms/step - binary_accuracy: 0.9726 - loss: 0.1351 - val_binary_accuracy: 0.9723 - val_loss: 0.1397\n",
      "Epoch 48/100\n",
      "\u001b[1m11/11\u001b[0m \u001b[32m━━━━━━━━━━━━━━━━━━━━\u001b[0m\u001b[37m\u001b[0m \u001b[1m0s\u001b[0m 5ms/step - binary_accuracy: 0.9728 - loss: 0.1350 - val_binary_accuracy: 0.9723 - val_loss: 0.1393\n",
      "Epoch 49/100\n",
      "\u001b[1m11/11\u001b[0m \u001b[32m━━━━━━━━━━━━━━━━━━━━\u001b[0m\u001b[37m\u001b[0m \u001b[1m0s\u001b[0m 6ms/step - binary_accuracy: 0.9730 - loss: 0.1337 - val_binary_accuracy: 0.9724 - val_loss: 0.1390\n",
      "Epoch 50/100\n",
      "\u001b[1m11/11\u001b[0m \u001b[32m━━━━━━━━━━━━━━━━━━━━\u001b[0m\u001b[37m\u001b[0m \u001b[1m0s\u001b[0m 5ms/step - binary_accuracy: 0.9731 - loss: 0.1336 - val_binary_accuracy: 0.9725 - val_loss: 0.1386\n",
      "Epoch 51/100\n",
      "\u001b[1m11/11\u001b[0m \u001b[32m━━━━━━━━━━━━━━━━━━━━\u001b[0m\u001b[37m\u001b[0m \u001b[1m0s\u001b[0m 5ms/step - binary_accuracy: 0.9730 - loss: 0.1334 - val_binary_accuracy: 0.9727 - val_loss: 0.1383\n",
      "Epoch 52/100\n",
      "\u001b[1m11/11\u001b[0m \u001b[32m━━━━━━━━━━━━━━━━━━━━\u001b[0m\u001b[37m\u001b[0m \u001b[1m0s\u001b[0m 5ms/step - binary_accuracy: 0.9732 - loss: 0.1328 - val_binary_accuracy: 0.9728 - val_loss: 0.1379\n",
      "Epoch 53/100\n",
      "\u001b[1m11/11\u001b[0m \u001b[32m━━━━━━━━━━━━━━━━━━━━\u001b[0m\u001b[37m\u001b[0m \u001b[1m0s\u001b[0m 6ms/step - binary_accuracy: 0.9731 - loss: 0.1327 - val_binary_accuracy: 0.9728 - val_loss: 0.1376\n",
      "Epoch 54/100\n",
      "\u001b[1m11/11\u001b[0m \u001b[32m━━━━━━━━━━━━━━━━━━━━\u001b[0m\u001b[37m\u001b[0m \u001b[1m0s\u001b[0m 4ms/step - binary_accuracy: 0.9735 - loss: 0.1321 - val_binary_accuracy: 0.9730 - val_loss: 0.1373\n",
      "Epoch 55/100\n",
      "\u001b[1m11/11\u001b[0m \u001b[32m━━━━━━━━━━━━━━━━━━━━\u001b[0m\u001b[37m\u001b[0m \u001b[1m0s\u001b[0m 4ms/step - binary_accuracy: 0.9736 - loss: 0.1314 - val_binary_accuracy: 0.9732 - val_loss: 0.1370\n",
      "Epoch 56/100\n",
      "\u001b[1m11/11\u001b[0m \u001b[32m━━━━━━━━━━━━━━━━━━━━\u001b[0m\u001b[37m\u001b[0m \u001b[1m0s\u001b[0m 4ms/step - binary_accuracy: 0.9737 - loss: 0.1315 - val_binary_accuracy: 0.9733 - val_loss: 0.1367\n",
      "Epoch 57/100\n",
      "\u001b[1m11/11\u001b[0m \u001b[32m━━━━━━━━━━━━━━━━━━━━\u001b[0m\u001b[37m\u001b[0m \u001b[1m0s\u001b[0m 4ms/step - binary_accuracy: 0.9741 - loss: 0.1313 - val_binary_accuracy: 0.9733 - val_loss: 0.1364\n",
      "Epoch 58/100\n",
      "\u001b[1m11/11\u001b[0m \u001b[32m━━━━━━━━━━━━━━━━━━━━\u001b[0m\u001b[37m\u001b[0m \u001b[1m0s\u001b[0m 4ms/step - binary_accuracy: 0.9741 - loss: 0.1321 - val_binary_accuracy: 0.9734 - val_loss: 0.1362\n",
      "Epoch 59/100\n",
      "\u001b[1m11/11\u001b[0m \u001b[32m━━━━━━━━━━━━━━━━━━━━\u001b[0m\u001b[37m\u001b[0m \u001b[1m0s\u001b[0m 4ms/step - binary_accuracy: 0.9741 - loss: 0.1298 - val_binary_accuracy: 0.9734 - val_loss: 0.1359\n",
      "Epoch 60/100\n",
      "\u001b[1m11/11\u001b[0m \u001b[32m━━━━━━━━━━━━━━━━━━━━\u001b[0m\u001b[37m\u001b[0m \u001b[1m0s\u001b[0m 5ms/step - binary_accuracy: 0.9743 - loss: 0.1311 - val_binary_accuracy: 0.9736 - val_loss: 0.1356\n",
      "Epoch 61/100\n",
      "\u001b[1m11/11\u001b[0m \u001b[32m━━━━━━━━━━━━━━━━━━━━\u001b[0m\u001b[37m\u001b[0m \u001b[1m0s\u001b[0m 5ms/step - binary_accuracy: 0.9744 - loss: 0.1302 - val_binary_accuracy: 0.9739 - val_loss: 0.1354\n",
      "Epoch 62/100\n",
      "\u001b[1m11/11\u001b[0m \u001b[32m━━━━━━━━━━━━━━━━━━━━\u001b[0m\u001b[37m\u001b[0m \u001b[1m0s\u001b[0m 5ms/step - binary_accuracy: 0.9747 - loss: 0.1299 - val_binary_accuracy: 0.9740 - val_loss: 0.1351\n",
      "Epoch 63/100\n",
      "\u001b[1m11/11\u001b[0m \u001b[32m━━━━━━━━━━━━━━━━━━━━\u001b[0m\u001b[37m\u001b[0m \u001b[1m0s\u001b[0m 4ms/step - binary_accuracy: 0.9747 - loss: 0.1290 - val_binary_accuracy: 0.9742 - val_loss: 0.1348\n",
      "Epoch 64/100\n",
      "\u001b[1m11/11\u001b[0m \u001b[32m━━━━━━━━━━━━━━━━━━━━\u001b[0m\u001b[37m\u001b[0m \u001b[1m0s\u001b[0m 5ms/step - binary_accuracy: 0.9747 - loss: 0.1288 - val_binary_accuracy: 0.9742 - val_loss: 0.1346\n",
      "Epoch 65/100\n",
      "\u001b[1m11/11\u001b[0m \u001b[32m━━━━━━━━━━━━━━━━━━━━\u001b[0m\u001b[37m\u001b[0m \u001b[1m0s\u001b[0m 4ms/step - binary_accuracy: 0.9748 - loss: 0.1296 - val_binary_accuracy: 0.9743 - val_loss: 0.1343\n",
      "Epoch 66/100\n",
      "\u001b[1m11/11\u001b[0m \u001b[32m━━━━━━━━━━━━━━━━━━━━\u001b[0m\u001b[37m\u001b[0m \u001b[1m0s\u001b[0m 4ms/step - binary_accuracy: 0.9747 - loss: 0.1303 - val_binary_accuracy: 0.9744 - val_loss: 0.1341\n",
      "Epoch 67/100\n",
      "\u001b[1m11/11\u001b[0m \u001b[32m━━━━━━━━━━━━━━━━━━━━\u001b[0m\u001b[37m\u001b[0m \u001b[1m0s\u001b[0m 6ms/step - binary_accuracy: 0.9751 - loss: 0.1283 - val_binary_accuracy: 0.9744 - val_loss: 0.1339\n",
      "Epoch 68/100\n",
      "\u001b[1m11/11\u001b[0m \u001b[32m━━━━━━━━━━━━━━━━━━━━\u001b[0m\u001b[37m\u001b[0m \u001b[1m0s\u001b[0m 6ms/step - binary_accuracy: 0.9750 - loss: 0.1284 - val_binary_accuracy: 0.9745 - val_loss: 0.1336\n",
      "Epoch 69/100\n",
      "\u001b[1m11/11\u001b[0m \u001b[32m━━━━━━━━━━━━━━━━━━━━\u001b[0m\u001b[37m\u001b[0m \u001b[1m0s\u001b[0m 5ms/step - binary_accuracy: 0.9748 - loss: 0.1304 - val_binary_accuracy: 0.9745 - val_loss: 0.1334\n",
      "Epoch 70/100\n",
      "\u001b[1m11/11\u001b[0m \u001b[32m━━━━━━━━━━━━━━━━━━━━\u001b[0m\u001b[37m\u001b[0m \u001b[1m0s\u001b[0m 4ms/step - binary_accuracy: 0.9761 - loss: 0.1264 - val_binary_accuracy: 0.9745 - val_loss: 0.1332\n",
      "Epoch 71/100\n",
      "\u001b[1m11/11\u001b[0m \u001b[32m━━━━━━━━━━━━━━━━━━━━\u001b[0m\u001b[37m\u001b[0m \u001b[1m0s\u001b[0m 5ms/step - binary_accuracy: 0.9757 - loss: 0.1260 - val_binary_accuracy: 0.9746 - val_loss: 0.1330\n",
      "Epoch 72/100\n",
      "\u001b[1m11/11\u001b[0m \u001b[32m━━━━━━━━━━━━━━━━━━━━\u001b[0m\u001b[37m\u001b[0m \u001b[1m0s\u001b[0m 5ms/step - binary_accuracy: 0.9754 - loss: 0.1268 - val_binary_accuracy: 0.9746 - val_loss: 0.1328\n",
      "Epoch 73/100\n",
      "\u001b[1m11/11\u001b[0m \u001b[32m━━━━━━━━━━━━━━━━━━━━\u001b[0m\u001b[37m\u001b[0m \u001b[1m0s\u001b[0m 6ms/step - binary_accuracy: 0.9759 - loss: 0.1260 - val_binary_accuracy: 0.9748 - val_loss: 0.1325\n",
      "Epoch 74/100\n",
      "\u001b[1m11/11\u001b[0m \u001b[32m━━━━━━━━━━━━━━━━━━━━\u001b[0m\u001b[37m\u001b[0m \u001b[1m0s\u001b[0m 6ms/step - binary_accuracy: 0.9754 - loss: 0.1271 - val_binary_accuracy: 0.9748 - val_loss: 0.1323\n",
      "Epoch 75/100\n",
      "\u001b[1m11/11\u001b[0m \u001b[32m━━━━━━━━━━━━━━━━━━━━\u001b[0m\u001b[37m\u001b[0m \u001b[1m0s\u001b[0m 5ms/step - binary_accuracy: 0.9755 - loss: 0.1265 - val_binary_accuracy: 0.9749 - val_loss: 0.1321\n",
      "Epoch 76/100\n",
      "\u001b[1m11/11\u001b[0m \u001b[32m━━━━━━━━━━━━━━━━━━━━\u001b[0m\u001b[37m\u001b[0m \u001b[1m0s\u001b[0m 4ms/step - binary_accuracy: 0.9759 - loss: 0.1266 - val_binary_accuracy: 0.9750 - val_loss: 0.1319\n",
      "Epoch 77/100\n",
      "\u001b[1m11/11\u001b[0m \u001b[32m━━━━━━━━━━━━━━━━━━━━\u001b[0m\u001b[37m\u001b[0m \u001b[1m0s\u001b[0m 4ms/step - binary_accuracy: 0.9757 - loss: 0.1265 - val_binary_accuracy: 0.9751 - val_loss: 0.1318\n",
      "Epoch 78/100\n",
      "\u001b[1m11/11\u001b[0m \u001b[32m━━━━━━━━━━━━━━━━━━━━\u001b[0m\u001b[37m\u001b[0m \u001b[1m0s\u001b[0m 4ms/step - binary_accuracy: 0.9756 - loss: 0.1282 - val_binary_accuracy: 0.9751 - val_loss: 0.1316\n",
      "Epoch 79/100\n",
      "\u001b[1m11/11\u001b[0m \u001b[32m━━━━━━━━━━━━━━━━━━━━\u001b[0m\u001b[37m\u001b[0m \u001b[1m0s\u001b[0m 4ms/step - binary_accuracy: 0.9761 - loss: 0.1248 - val_binary_accuracy: 0.9752 - val_loss: 0.1314\n",
      "Epoch 80/100\n",
      "\u001b[1m11/11\u001b[0m \u001b[32m━━━━━━━━━━━━━━━━━━━━\u001b[0m\u001b[37m\u001b[0m \u001b[1m0s\u001b[0m 4ms/step - binary_accuracy: 0.9759 - loss: 0.1268 - val_binary_accuracy: 0.9752 - val_loss: 0.1312\n",
      "Epoch 81/100\n",
      "\u001b[1m11/11\u001b[0m \u001b[32m━━━━━━━━━━━━━━━━━━━━\u001b[0m\u001b[37m\u001b[0m \u001b[1m0s\u001b[0m 4ms/step - binary_accuracy: 0.9763 - loss: 0.1253 - val_binary_accuracy: 0.9753 - val_loss: 0.1310\n",
      "Epoch 82/100\n",
      "\u001b[1m11/11\u001b[0m \u001b[32m━━━━━━━━━━━━━━━━━━━━\u001b[0m\u001b[37m\u001b[0m \u001b[1m0s\u001b[0m 4ms/step - binary_accuracy: 0.9766 - loss: 0.1234 - val_binary_accuracy: 0.9753 - val_loss: 0.1308\n",
      "Epoch 83/100\n",
      "\u001b[1m11/11\u001b[0m \u001b[32m━━━━━━━━━━━━━━━━━━━━\u001b[0m\u001b[37m\u001b[0m \u001b[1m0s\u001b[0m 4ms/step - binary_accuracy: 0.9763 - loss: 0.1262 - val_binary_accuracy: 0.9755 - val_loss: 0.1307\n",
      "Epoch 84/100\n",
      "\u001b[1m11/11\u001b[0m \u001b[32m━━━━━━━━━━━━━━━━━━━━\u001b[0m\u001b[37m\u001b[0m \u001b[1m0s\u001b[0m 4ms/step - binary_accuracy: 0.9764 - loss: 0.1258 - val_binary_accuracy: 0.9755 - val_loss: 0.1305\n",
      "Epoch 85/100\n",
      "\u001b[1m11/11\u001b[0m \u001b[32m━━━━━━━━━━━━━━━━━━━━\u001b[0m\u001b[37m\u001b[0m \u001b[1m0s\u001b[0m 4ms/step - binary_accuracy: 0.9764 - loss: 0.1251 - val_binary_accuracy: 0.9756 - val_loss: 0.1303\n",
      "Epoch 86/100\n",
      "\u001b[1m11/11\u001b[0m \u001b[32m━━━━━━━━━━━━━━━━━━━━\u001b[0m\u001b[37m\u001b[0m \u001b[1m0s\u001b[0m 4ms/step - binary_accuracy: 0.9766 - loss: 0.1247 - val_binary_accuracy: 0.9756 - val_loss: 0.1302\n",
      "Epoch 87/100\n",
      "\u001b[1m11/11\u001b[0m \u001b[32m━━━━━━━━━━━━━━━━━━━━\u001b[0m\u001b[37m\u001b[0m \u001b[1m0s\u001b[0m 4ms/step - binary_accuracy: 0.9768 - loss: 0.1230 - val_binary_accuracy: 0.9756 - val_loss: 0.1300\n",
      "Epoch 88/100\n",
      "\u001b[1m11/11\u001b[0m \u001b[32m━━━━━━━━━━━━━━━━━━━━\u001b[0m\u001b[37m\u001b[0m \u001b[1m0s\u001b[0m 4ms/step - binary_accuracy: 0.9768 - loss: 0.1228 - val_binary_accuracy: 0.9757 - val_loss: 0.1298\n",
      "Epoch 89/100\n",
      "\u001b[1m11/11\u001b[0m \u001b[32m━━━━━━━━━━━━━━━━━━━━\u001b[0m\u001b[37m\u001b[0m \u001b[1m0s\u001b[0m 4ms/step - binary_accuracy: 0.9767 - loss: 0.1232 - val_binary_accuracy: 0.9757 - val_loss: 0.1297\n",
      "Epoch 90/100\n",
      "\u001b[1m11/11\u001b[0m \u001b[32m━━━━━━━━━━━━━━━━━━━━\u001b[0m\u001b[37m\u001b[0m \u001b[1m0s\u001b[0m 5ms/step - binary_accuracy: 0.9768 - loss: 0.1225 - val_binary_accuracy: 0.9757 - val_loss: 0.1295\n",
      "Epoch 91/100\n",
      "\u001b[1m11/11\u001b[0m \u001b[32m━━━━━━━━━━━━━━━━━━━━\u001b[0m\u001b[37m\u001b[0m \u001b[1m0s\u001b[0m 4ms/step - binary_accuracy: 0.9766 - loss: 0.1240 - val_binary_accuracy: 0.9758 - val_loss: 0.1294\n",
      "Epoch 92/100\n",
      "\u001b[1m11/11\u001b[0m \u001b[32m━━━━━━━━━━━━━━━━━━━━\u001b[0m\u001b[37m\u001b[0m \u001b[1m0s\u001b[0m 5ms/step - binary_accuracy: 0.9765 - loss: 0.1234 - val_binary_accuracy: 0.9758 - val_loss: 0.1293\n",
      "Epoch 93/100\n",
      "\u001b[1m11/11\u001b[0m \u001b[32m━━━━━━━━━━━━━━━━━━━━\u001b[0m\u001b[37m\u001b[0m \u001b[1m0s\u001b[0m 5ms/step - binary_accuracy: 0.9768 - loss: 0.1230 - val_binary_accuracy: 0.9758 - val_loss: 0.1291\n",
      "Epoch 94/100\n",
      "\u001b[1m11/11\u001b[0m \u001b[32m━━━━━━━━━━━━━━━━━━━━\u001b[0m\u001b[37m\u001b[0m \u001b[1m0s\u001b[0m 5ms/step - binary_accuracy: 0.9766 - loss: 0.1239 - val_binary_accuracy: 0.9758 - val_loss: 0.1289\n",
      "Epoch 95/100\n",
      "\u001b[1m11/11\u001b[0m \u001b[32m━━━━━━━━━━━━━━━━━━━━\u001b[0m\u001b[37m\u001b[0m \u001b[1m0s\u001b[0m 4ms/step - binary_accuracy: 0.9764 - loss: 0.1233 - val_binary_accuracy: 0.9758 - val_loss: 0.1288\n",
      "Epoch 96/100\n",
      "\u001b[1m11/11\u001b[0m \u001b[32m━━━━━━━━━━━━━━━━━━━━\u001b[0m\u001b[37m\u001b[0m \u001b[1m0s\u001b[0m 4ms/step - binary_accuracy: 0.9766 - loss: 0.1227 - val_binary_accuracy: 0.9759 - val_loss: 0.1286\n",
      "Epoch 97/100\n",
      "\u001b[1m11/11\u001b[0m \u001b[32m━━━━━━━━━━━━━━━━━━━━\u001b[0m\u001b[37m\u001b[0m \u001b[1m0s\u001b[0m 4ms/step - binary_accuracy: 0.9769 - loss: 0.1221 - val_binary_accuracy: 0.9759 - val_loss: 0.1285\n",
      "Epoch 98/100\n",
      "\u001b[1m11/11\u001b[0m \u001b[32m━━━━━━━━━━━━━━━━━━━━\u001b[0m\u001b[37m\u001b[0m \u001b[1m0s\u001b[0m 5ms/step - binary_accuracy: 0.9767 - loss: 0.1235 - val_binary_accuracy: 0.9759 - val_loss: 0.1284\n",
      "Epoch 99/100\n",
      "\u001b[1m11/11\u001b[0m \u001b[32m━━━━━━━━━━━━━━━━━━━━\u001b[0m\u001b[37m\u001b[0m \u001b[1m0s\u001b[0m 4ms/step - binary_accuracy: 0.9763 - loss: 0.1249 - val_binary_accuracy: 0.9759 - val_loss: 0.1283\n",
      "Epoch 100/100\n",
      "\u001b[1m11/11\u001b[0m \u001b[32m━━━━━━━━━━━━━━━━━━━━\u001b[0m\u001b[37m\u001b[0m \u001b[1m0s\u001b[0m 4ms/step - binary_accuracy: 0.9766 - loss: 0.1230 - val_binary_accuracy: 0.9759 - val_loss: 0.1281\n"
     ]
    },
    {
     "data": {
      "text/plain": [
       "<keras.src.callbacks.history.History at 0x20f63e77350>"
      ]
     },
     "execution_count": 29,
     "metadata": {},
     "output_type": "execute_result"
    }
   ],
   "source": [
    "model.compile(loss='binary_crossentropy', optimizer=SGD(), metrics=[BinaryAccuracy])\n",
    "model.fit(X_train, y_otc_train,epochs=100,batch_size=100, validation_split=0.2)"
   ]
  },
  {
   "cell_type": "code",
   "execution_count": 31,
   "id": "fb2114ae-6a1e-47fd-ade2-2cd60ed6f7bf",
   "metadata": {},
   "outputs": [
    {
     "name": "stdout",
     "output_type": "stream",
     "text": [
      "\u001b[1m18/18\u001b[0m \u001b[32m━━━━━━━━━━━━━━━━━━━━\u001b[0m\u001b[37m\u001b[0m \u001b[1m0s\u001b[0m 1ms/step - binary_accuracy: 0.9763 - loss: 0.1263 \n"
     ]
    },
    {
     "data": {
      "text/plain": [
       "0.9764791131019592"
      ]
     },
     "execution_count": 31,
     "metadata": {},
     "output_type": "execute_result"
    }
   ],
   "source": [
    "loss, accuracy = model.evaluate(X_tst,y_otc_test)\n",
    "accuracy"
   ]
  },
  {
   "cell_type": "markdown",
   "id": "a97353e0-c141-4543-9632-db94bdd4286c",
   "metadata": {},
   "source": [
    "## 2 Node Neural Network"
   ]
  },
  {
   "cell_type": "code",
   "execution_count": 12,
   "id": "68cd2663-ae22-4f85-8b94-bee5a8aaad05",
   "metadata": {},
   "outputs": [
    {
     "data": {
      "text/html": [
       "<pre style=\"white-space:pre;overflow-x:auto;line-height:normal;font-family:Menlo,'DejaVu Sans Mono',consolas,'Courier New',monospace\"><span style=\"font-weight: bold\">Model: \"functional\"</span>\n",
       "</pre>\n"
      ],
      "text/plain": [
       "\u001b[1mModel: \"functional\"\u001b[0m\n"
      ]
     },
     "metadata": {},
     "output_type": "display_data"
    },
    {
     "data": {
      "text/html": [
       "<pre style=\"white-space:pre;overflow-x:auto;line-height:normal;font-family:Menlo,'DejaVu Sans Mono',consolas,'Courier New',monospace\">┏━━━━━━━━━━━━━━━━━━━━━━━━━━━━━━━┳━━━━━━━━━━━━━━━━━━━━━━━━━━━┳━━━━━━━━━━━━━━━━━┳━━━━━━━━━━━━━━━━━━━━━━━━━━━━┓\n",
       "┃<span style=\"font-weight: bold\"> Layer (type)                  </span>┃<span style=\"font-weight: bold\"> Output Shape              </span>┃<span style=\"font-weight: bold\">         Param # </span>┃<span style=\"font-weight: bold\"> Connected to               </span>┃\n",
       "┡━━━━━━━━━━━━━━━━━━━━━━━━━━━━━━━╇━━━━━━━━━━━━━━━━━━━━━━━━━━━╇━━━━━━━━━━━━━━━━━╇━━━━━━━━━━━━━━━━━━━━━━━━━━━━┩\n",
       "│ input_layer (<span style=\"color: #0087ff; text-decoration-color: #0087ff\">InputLayer</span>)      │ (<span style=\"color: #00d7ff; text-decoration-color: #00d7ff\">None</span>, <span style=\"color: #00af00; text-decoration-color: #00af00\">235</span>)               │               <span style=\"color: #00af00; text-decoration-color: #00af00\">0</span> │ -                          │\n",
       "├───────────────────────────────┼───────────────────────────┼─────────────────┼────────────────────────────┤\n",
       "│ dense (<span style=\"color: #0087ff; text-decoration-color: #0087ff\">Dense</span>)                 │ (<span style=\"color: #00d7ff; text-decoration-color: #00d7ff\">None</span>, <span style=\"color: #00af00; text-decoration-color: #00af00\">200</span>)               │          <span style=\"color: #00af00; text-decoration-color: #00af00\">47,200</span> │ input_layer[<span style=\"color: #00af00; text-decoration-color: #00af00\">0</span>][<span style=\"color: #00af00; text-decoration-color: #00af00\">0</span>]          │\n",
       "├───────────────────────────────┼───────────────────────────┼─────────────────┼────────────────────────────┤\n",
       "│ dense_1 (<span style=\"color: #0087ff; text-decoration-color: #0087ff\">Dense</span>)               │ (<span style=\"color: #00d7ff; text-decoration-color: #00d7ff\">None</span>, <span style=\"color: #00af00; text-decoration-color: #00af00\">200</span>)               │          <span style=\"color: #00af00; text-decoration-color: #00af00\">40,200</span> │ dense[<span style=\"color: #00af00; text-decoration-color: #00af00\">0</span>][<span style=\"color: #00af00; text-decoration-color: #00af00\">0</span>]                │\n",
       "├───────────────────────────────┼───────────────────────────┼─────────────────┼────────────────────────────┤\n",
       "│ dense_2 (<span style=\"color: #0087ff; text-decoration-color: #0087ff\">Dense</span>)               │ (<span style=\"color: #00d7ff; text-decoration-color: #00d7ff\">None</span>, <span style=\"color: #00af00; text-decoration-color: #00af00\">200</span>)               │          <span style=\"color: #00af00; text-decoration-color: #00af00\">40,200</span> │ dense_1[<span style=\"color: #00af00; text-decoration-color: #00af00\">0</span>][<span style=\"color: #00af00; text-decoration-color: #00af00\">0</span>]              │\n",
       "├───────────────────────────────┼───────────────────────────┼─────────────────┼────────────────────────────┤\n",
       "│ dense_3 (<span style=\"color: #0087ff; text-decoration-color: #0087ff\">Dense</span>)               │ (<span style=\"color: #00d7ff; text-decoration-color: #00d7ff\">None</span>, <span style=\"color: #00af00; text-decoration-color: #00af00\">200</span>)               │          <span style=\"color: #00af00; text-decoration-color: #00af00\">40,200</span> │ dense_2[<span style=\"color: #00af00; text-decoration-color: #00af00\">0</span>][<span style=\"color: #00af00; text-decoration-color: #00af00\">0</span>]              │\n",
       "├───────────────────────────────┼───────────────────────────┼─────────────────┼────────────────────────────┤\n",
       "│ dense_4 (<span style=\"color: #0087ff; text-decoration-color: #0087ff\">Dense</span>)               │ (<span style=\"color: #00d7ff; text-decoration-color: #00d7ff\">None</span>, <span style=\"color: #00af00; text-decoration-color: #00af00\">200</span>)               │          <span style=\"color: #00af00; text-decoration-color: #00af00\">40,200</span> │ dense_3[<span style=\"color: #00af00; text-decoration-color: #00af00\">0</span>][<span style=\"color: #00af00; text-decoration-color: #00af00\">0</span>]              │\n",
       "├───────────────────────────────┼───────────────────────────┼─────────────────┼────────────────────────────┤\n",
       "│ dense_7 (<span style=\"color: #0087ff; text-decoration-color: #0087ff\">Dense</span>)               │ (<span style=\"color: #00d7ff; text-decoration-color: #00d7ff\">None</span>, <span style=\"color: #00af00; text-decoration-color: #00af00\">198</span>)               │          <span style=\"color: #00af00; text-decoration-color: #00af00\">39,798</span> │ dense_4[<span style=\"color: #00af00; text-decoration-color: #00af00\">0</span>][<span style=\"color: #00af00; text-decoration-color: #00af00\">0</span>]              │\n",
       "├───────────────────────────────┼───────────────────────────┼─────────────────┼────────────────────────────┤\n",
       "│ dense_10 (<span style=\"color: #0087ff; text-decoration-color: #0087ff\">Dense</span>)              │ (<span style=\"color: #00d7ff; text-decoration-color: #00d7ff\">None</span>, <span style=\"color: #00af00; text-decoration-color: #00af00\">100</span>)               │          <span style=\"color: #00af00; text-decoration-color: #00af00\">20,100</span> │ dense_4[<span style=\"color: #00af00; text-decoration-color: #00af00\">0</span>][<span style=\"color: #00af00; text-decoration-color: #00af00\">0</span>]              │\n",
       "├───────────────────────────────┼───────────────────────────┼─────────────────┼────────────────────────────┤\n",
       "│ dense_8 (<span style=\"color: #0087ff; text-decoration-color: #0087ff\">Dense</span>)               │ (<span style=\"color: #00d7ff; text-decoration-color: #00d7ff\">None</span>, <span style=\"color: #00af00; text-decoration-color: #00af00\">198</span>)               │          <span style=\"color: #00af00; text-decoration-color: #00af00\">39,402</span> │ dense_7[<span style=\"color: #00af00; text-decoration-color: #00af00\">0</span>][<span style=\"color: #00af00; text-decoration-color: #00af00\">0</span>]              │\n",
       "├───────────────────────────────┼───────────────────────────┼─────────────────┼────────────────────────────┤\n",
       "│ dense_13 (<span style=\"color: #0087ff; text-decoration-color: #0087ff\">Dense</span>)              │ (<span style=\"color: #00d7ff; text-decoration-color: #00d7ff\">None</span>, <span style=\"color: #00af00; text-decoration-color: #00af00\">20</span>)                │           <span style=\"color: #00af00; text-decoration-color: #00af00\">2,020</span> │ dense_10[<span style=\"color: #00af00; text-decoration-color: #00af00\">0</span>][<span style=\"color: #00af00; text-decoration-color: #00af00\">0</span>]             │\n",
       "├───────────────────────────────┼───────────────────────────┼─────────────────┼────────────────────────────┤\n",
       "│ dense_9 (<span style=\"color: #0087ff; text-decoration-color: #0087ff\">Dense</span>)               │ (<span style=\"color: #00d7ff; text-decoration-color: #00d7ff\">None</span>, <span style=\"color: #00af00; text-decoration-color: #00af00\">196</span>)               │          <span style=\"color: #00af00; text-decoration-color: #00af00\">39,004</span> │ dense_8[<span style=\"color: #00af00; text-decoration-color: #00af00\">0</span>][<span style=\"color: #00af00; text-decoration-color: #00af00\">0</span>]              │\n",
       "├───────────────────────────────┼───────────────────────────┼─────────────────┼────────────────────────────┤\n",
       "│ dense_14 (<span style=\"color: #0087ff; text-decoration-color: #0087ff\">Dense</span>)              │ (<span style=\"color: #00d7ff; text-decoration-color: #00d7ff\">None</span>, <span style=\"color: #00af00; text-decoration-color: #00af00\">17</span>)                │             <span style=\"color: #00af00; text-decoration-color: #00af00\">357</span> │ dense_13[<span style=\"color: #00af00; text-decoration-color: #00af00\">0</span>][<span style=\"color: #00af00; text-decoration-color: #00af00\">0</span>]             │\n",
       "└───────────────────────────────┴───────────────────────────┴─────────────────┴────────────────────────────┘\n",
       "</pre>\n"
      ],
      "text/plain": [
       "┏━━━━━━━━━━━━━━━━━━━━━━━━━━━━━━━┳━━━━━━━━━━━━━━━━━━━━━━━━━━━┳━━━━━━━━━━━━━━━━━┳━━━━━━━━━━━━━━━━━━━━━━━━━━━━┓\n",
       "┃\u001b[1m \u001b[0m\u001b[1mLayer (type)                 \u001b[0m\u001b[1m \u001b[0m┃\u001b[1m \u001b[0m\u001b[1mOutput Shape             \u001b[0m\u001b[1m \u001b[0m┃\u001b[1m \u001b[0m\u001b[1m        Param #\u001b[0m\u001b[1m \u001b[0m┃\u001b[1m \u001b[0m\u001b[1mConnected to              \u001b[0m\u001b[1m \u001b[0m┃\n",
       "┡━━━━━━━━━━━━━━━━━━━━━━━━━━━━━━━╇━━━━━━━━━━━━━━━━━━━━━━━━━━━╇━━━━━━━━━━━━━━━━━╇━━━━━━━━━━━━━━━━━━━━━━━━━━━━┩\n",
       "│ input_layer (\u001b[38;5;33mInputLayer\u001b[0m)      │ (\u001b[38;5;45mNone\u001b[0m, \u001b[38;5;34m235\u001b[0m)               │               \u001b[38;5;34m0\u001b[0m │ -                          │\n",
       "├───────────────────────────────┼───────────────────────────┼─────────────────┼────────────────────────────┤\n",
       "│ dense (\u001b[38;5;33mDense\u001b[0m)                 │ (\u001b[38;5;45mNone\u001b[0m, \u001b[38;5;34m200\u001b[0m)               │          \u001b[38;5;34m47,200\u001b[0m │ input_layer[\u001b[38;5;34m0\u001b[0m][\u001b[38;5;34m0\u001b[0m]          │\n",
       "├───────────────────────────────┼───────────────────────────┼─────────────────┼────────────────────────────┤\n",
       "│ dense_1 (\u001b[38;5;33mDense\u001b[0m)               │ (\u001b[38;5;45mNone\u001b[0m, \u001b[38;5;34m200\u001b[0m)               │          \u001b[38;5;34m40,200\u001b[0m │ dense[\u001b[38;5;34m0\u001b[0m][\u001b[38;5;34m0\u001b[0m]                │\n",
       "├───────────────────────────────┼───────────────────────────┼─────────────────┼────────────────────────────┤\n",
       "│ dense_2 (\u001b[38;5;33mDense\u001b[0m)               │ (\u001b[38;5;45mNone\u001b[0m, \u001b[38;5;34m200\u001b[0m)               │          \u001b[38;5;34m40,200\u001b[0m │ dense_1[\u001b[38;5;34m0\u001b[0m][\u001b[38;5;34m0\u001b[0m]              │\n",
       "├───────────────────────────────┼───────────────────────────┼─────────────────┼────────────────────────────┤\n",
       "│ dense_3 (\u001b[38;5;33mDense\u001b[0m)               │ (\u001b[38;5;45mNone\u001b[0m, \u001b[38;5;34m200\u001b[0m)               │          \u001b[38;5;34m40,200\u001b[0m │ dense_2[\u001b[38;5;34m0\u001b[0m][\u001b[38;5;34m0\u001b[0m]              │\n",
       "├───────────────────────────────┼───────────────────────────┼─────────────────┼────────────────────────────┤\n",
       "│ dense_4 (\u001b[38;5;33mDense\u001b[0m)               │ (\u001b[38;5;45mNone\u001b[0m, \u001b[38;5;34m200\u001b[0m)               │          \u001b[38;5;34m40,200\u001b[0m │ dense_3[\u001b[38;5;34m0\u001b[0m][\u001b[38;5;34m0\u001b[0m]              │\n",
       "├───────────────────────────────┼───────────────────────────┼─────────────────┼────────────────────────────┤\n",
       "│ dense_7 (\u001b[38;5;33mDense\u001b[0m)               │ (\u001b[38;5;45mNone\u001b[0m, \u001b[38;5;34m198\u001b[0m)               │          \u001b[38;5;34m39,798\u001b[0m │ dense_4[\u001b[38;5;34m0\u001b[0m][\u001b[38;5;34m0\u001b[0m]              │\n",
       "├───────────────────────────────┼───────────────────────────┼─────────────────┼────────────────────────────┤\n",
       "│ dense_10 (\u001b[38;5;33mDense\u001b[0m)              │ (\u001b[38;5;45mNone\u001b[0m, \u001b[38;5;34m100\u001b[0m)               │          \u001b[38;5;34m20,100\u001b[0m │ dense_4[\u001b[38;5;34m0\u001b[0m][\u001b[38;5;34m0\u001b[0m]              │\n",
       "├───────────────────────────────┼───────────────────────────┼─────────────────┼────────────────────────────┤\n",
       "│ dense_8 (\u001b[38;5;33mDense\u001b[0m)               │ (\u001b[38;5;45mNone\u001b[0m, \u001b[38;5;34m198\u001b[0m)               │          \u001b[38;5;34m39,402\u001b[0m │ dense_7[\u001b[38;5;34m0\u001b[0m][\u001b[38;5;34m0\u001b[0m]              │\n",
       "├───────────────────────────────┼───────────────────────────┼─────────────────┼────────────────────────────┤\n",
       "│ dense_13 (\u001b[38;5;33mDense\u001b[0m)              │ (\u001b[38;5;45mNone\u001b[0m, \u001b[38;5;34m20\u001b[0m)                │           \u001b[38;5;34m2,020\u001b[0m │ dense_10[\u001b[38;5;34m0\u001b[0m][\u001b[38;5;34m0\u001b[0m]             │\n",
       "├───────────────────────────────┼───────────────────────────┼─────────────────┼────────────────────────────┤\n",
       "│ dense_9 (\u001b[38;5;33mDense\u001b[0m)               │ (\u001b[38;5;45mNone\u001b[0m, \u001b[38;5;34m196\u001b[0m)               │          \u001b[38;5;34m39,004\u001b[0m │ dense_8[\u001b[38;5;34m0\u001b[0m][\u001b[38;5;34m0\u001b[0m]              │\n",
       "├───────────────────────────────┼───────────────────────────┼─────────────────┼────────────────────────────┤\n",
       "│ dense_14 (\u001b[38;5;33mDense\u001b[0m)              │ (\u001b[38;5;45mNone\u001b[0m, \u001b[38;5;34m17\u001b[0m)                │             \u001b[38;5;34m357\u001b[0m │ dense_13[\u001b[38;5;34m0\u001b[0m][\u001b[38;5;34m0\u001b[0m]             │\n",
       "└───────────────────────────────┴───────────────────────────┴─────────────────┴────────────────────────────┘\n"
      ]
     },
     "metadata": {},
     "output_type": "display_data"
    },
    {
     "data": {
      "text/html": [
       "<pre style=\"white-space:pre;overflow-x:auto;line-height:normal;font-family:Menlo,'DejaVu Sans Mono',consolas,'Courier New',monospace\"><span style=\"font-weight: bold\"> Total params: </span><span style=\"color: #00af00; text-decoration-color: #00af00\">348,681</span> (1.33 MB)\n",
       "</pre>\n"
      ],
      "text/plain": [
       "\u001b[1m Total params: \u001b[0m\u001b[38;5;34m348,681\u001b[0m (1.33 MB)\n"
      ]
     },
     "metadata": {},
     "output_type": "display_data"
    },
    {
     "data": {
      "text/html": [
       "<pre style=\"white-space:pre;overflow-x:auto;line-height:normal;font-family:Menlo,'DejaVu Sans Mono',consolas,'Courier New',monospace\"><span style=\"font-weight: bold\"> Trainable params: </span><span style=\"color: #00af00; text-decoration-color: #00af00\">348,681</span> (1.33 MB)\n",
       "</pre>\n"
      ],
      "text/plain": [
       "\u001b[1m Trainable params: \u001b[0m\u001b[38;5;34m348,681\u001b[0m (1.33 MB)\n"
      ]
     },
     "metadata": {},
     "output_type": "display_data"
    },
    {
     "data": {
      "text/html": [
       "<pre style=\"white-space:pre;overflow-x:auto;line-height:normal;font-family:Menlo,'DejaVu Sans Mono',consolas,'Courier New',monospace\"><span style=\"font-weight: bold\"> Non-trainable params: </span><span style=\"color: #00af00; text-decoration-color: #00af00\">0</span> (0.00 B)\n",
       "</pre>\n"
      ],
      "text/plain": [
       "\u001b[1m Non-trainable params: \u001b[0m\u001b[38;5;34m0\u001b[0m (0.00 B)\n"
      ]
     },
     "metadata": {},
     "output_type": "display_data"
    }
   ],
   "source": [
    "import tensorflow as tf\n",
    "from tensorflow.keras.models import Model\n",
    "from tensorflow.keras.layers import Input, Dense\n",
    "\n",
    "# Input layer\n",
    "input_layer = Input(shape=(X_train.shape[1],))\n",
    "\n",
    "# Shared layers\n",
    "x = Dense(200, activation='relu')(input_layer)\n",
    "x = Dense(200, activation='relu')(x)\n",
    "x = Dense(200, activation='relu')(x)\n",
    "x = Dense(200, activation='relu')(x)\n",
    "x = Dense(200, activation='relu')(x)\n",
    "\n",
    "# Branch 1\n",
    "branch1 = Dense(198, activation='relu')(x)\n",
    "branch1 = Dense(198, activation='relu')(x)\n",
    "branch1 = Dense(198, activation='relu')(x)\n",
    "branch1 = Dense(198, activation='relu')(branch1)\n",
    "output1 = Dense(y_otc_train.shape[1], activation='softmax')(branch1)\n",
    "\n",
    "# Branch 2\n",
    "branch2 = Dense(100, activation='relu')(x)\n",
    "branch1 = Dense(50, activation='relu')(x)\n",
    "branch1 = Dense(50, activation='relu')(x)\n",
    "branch2 = Dense(20, activation='relu')(branch2)\n",
    "output2 = Dense(y_pain_train.shape[1], activation='softmax')(branch2)\n",
    "\n",
    "# Combine the branches\n",
    "model_1 = Model(inputs=input_layer, outputs=[output1, output2])\n",
    "\n",
    "# Compile the model\n",
    "model_1.compile(loss='binary_crossentropy', optimizer=SGD(), metrics=[BinaryAccuracy,BinaryAccuracy])\n",
    "model_1.summary()"
   ]
  },
  {
   "cell_type": "code",
   "execution_count": 13,
   "id": "9a3dd482-df1c-490e-a51a-ae5e385d3134",
   "metadata": {},
   "outputs": [
    {
     "name": "stdout",
     "output_type": "stream",
     "text": [
      "Epoch 1/100\n",
      "\u001b[1m11/11\u001b[0m \u001b[32m━━━━━━━━━━━━━━━━━━━━\u001b[0m\u001b[37m\u001b[0m \u001b[1m1s\u001b[0m 26ms/step - dense_14_binary_accuracy: 0.7536 - dense_9_binary_accuracy: 0.9689 - loss: 1.4472 - val_dense_14_binary_accuracy: 0.7343 - val_dense_9_binary_accuracy: 0.9691 - val_loss: 1.3883\n",
      "Epoch 2/100\n",
      "\u001b[1m11/11\u001b[0m \u001b[32m━━━━━━━━━━━━━━━━━━━━\u001b[0m\u001b[37m\u001b[0m \u001b[1m0s\u001b[0m 5ms/step - dense_14_binary_accuracy: 0.7514 - dense_9_binary_accuracy: 0.9690 - loss: 1.3823 - val_dense_14_binary_accuracy: 0.7343 - val_dense_9_binary_accuracy: 0.9691 - val_loss: 1.3632\n",
      "Epoch 3/100\n",
      "\u001b[1m11/11\u001b[0m \u001b[32m━━━━━━━━━━━━━━━━━━━━\u001b[0m\u001b[37m\u001b[0m \u001b[1m0s\u001b[0m 5ms/step - dense_14_binary_accuracy: 0.7543 - dense_9_binary_accuracy: 0.9689 - loss: 1.3644 - val_dense_14_binary_accuracy: 0.7343 - val_dense_9_binary_accuracy: 0.9691 - val_loss: 1.3484\n",
      "Epoch 4/100\n",
      "\u001b[1m11/11\u001b[0m \u001b[32m━━━━━━━━━━━━━━━━━━━━\u001b[0m\u001b[37m\u001b[0m \u001b[1m0s\u001b[0m 6ms/step - dense_14_binary_accuracy: 0.7480 - dense_9_binary_accuracy: 0.9689 - loss: 1.3539 - val_dense_14_binary_accuracy: 0.7343 - val_dense_9_binary_accuracy: 0.9691 - val_loss: 1.3365\n",
      "Epoch 5/100\n",
      "\u001b[1m11/11\u001b[0m \u001b[32m━━━━━━━━━━━━━━━━━━━━\u001b[0m\u001b[37m\u001b[0m \u001b[1m0s\u001b[0m 6ms/step - dense_14_binary_accuracy: 0.7475 - dense_9_binary_accuracy: 0.9689 - loss: 1.3421 - val_dense_14_binary_accuracy: 0.7343 - val_dense_9_binary_accuracy: 0.9691 - val_loss: 1.3240\n",
      "Epoch 6/100\n",
      "\u001b[1m11/11\u001b[0m \u001b[32m━━━━━━━━━━━━━━━━━━━━\u001b[0m\u001b[37m\u001b[0m \u001b[1m0s\u001b[0m 6ms/step - dense_14_binary_accuracy: 0.7436 - dense_9_binary_accuracy: 0.9689 - loss: 1.3316 - val_dense_14_binary_accuracy: 0.7343 - val_dense_9_binary_accuracy: 0.9691 - val_loss: 1.3111\n",
      "Epoch 7/100\n",
      "\u001b[1m11/11\u001b[0m \u001b[32m━━━━━━━━━━━━━━━━━━━━\u001b[0m\u001b[37m\u001b[0m \u001b[1m0s\u001b[0m 6ms/step - dense_14_binary_accuracy: 0.7486 - dense_9_binary_accuracy: 0.9688 - loss: 1.3160 - val_dense_14_binary_accuracy: 0.7343 - val_dense_9_binary_accuracy: 0.9691 - val_loss: 1.2981\n",
      "Epoch 8/100\n",
      "\u001b[1m11/11\u001b[0m \u001b[32m━━━━━━━━━━━━━━━━━━━━\u001b[0m\u001b[37m\u001b[0m \u001b[1m0s\u001b[0m 5ms/step - dense_14_binary_accuracy: 0.7551 - dense_9_binary_accuracy: 0.9690 - loss: 1.3015 - val_dense_14_binary_accuracy: 0.7343 - val_dense_9_binary_accuracy: 0.9691 - val_loss: 1.2821\n",
      "Epoch 9/100\n",
      "\u001b[1m11/11\u001b[0m \u001b[32m━━━━━━━━━━━━━━━━━━━━\u001b[0m\u001b[37m\u001b[0m \u001b[1m0s\u001b[0m 5ms/step - dense_14_binary_accuracy: 0.7494 - dense_9_binary_accuracy: 0.9690 - loss: 1.2929 - val_dense_14_binary_accuracy: 0.7343 - val_dense_9_binary_accuracy: 0.9691 - val_loss: 1.2636\n",
      "Epoch 10/100\n",
      "\u001b[1m11/11\u001b[0m \u001b[32m━━━━━━━━━━━━━━━━━━━━\u001b[0m\u001b[37m\u001b[0m \u001b[1m0s\u001b[0m 5ms/step - dense_14_binary_accuracy: 0.7435 - dense_9_binary_accuracy: 0.9689 - loss: 1.2712 - val_dense_14_binary_accuracy: 0.7343 - val_dense_9_binary_accuracy: 0.9691 - val_loss: 1.2454\n",
      "Epoch 11/100\n",
      "\u001b[1m11/11\u001b[0m \u001b[32m━━━━━━━━━━━━━━━━━━━━\u001b[0m\u001b[37m\u001b[0m \u001b[1m0s\u001b[0m 5ms/step - dense_14_binary_accuracy: 0.7494 - dense_9_binary_accuracy: 0.9689 - loss: 1.2527 - val_dense_14_binary_accuracy: 0.7343 - val_dense_9_binary_accuracy: 0.9691 - val_loss: 1.2239\n",
      "Epoch 12/100\n",
      "\u001b[1m11/11\u001b[0m \u001b[32m━━━━━━━━━━━━━━━━━━━━\u001b[0m\u001b[37m\u001b[0m \u001b[1m0s\u001b[0m 5ms/step - dense_14_binary_accuracy: 0.7527 - dense_9_binary_accuracy: 0.9690 - loss: 1.2293 - val_dense_14_binary_accuracy: 0.7343 - val_dense_9_binary_accuracy: 0.9691 - val_loss: 1.2002\n",
      "Epoch 13/100\n",
      "\u001b[1m11/11\u001b[0m \u001b[32m━━━━━━━━━━━━━━━━━━━━\u001b[0m\u001b[37m\u001b[0m \u001b[1m0s\u001b[0m 5ms/step - dense_14_binary_accuracy: 0.7499 - dense_9_binary_accuracy: 0.9690 - loss: 1.2064 - val_dense_14_binary_accuracy: 0.7343 - val_dense_9_binary_accuracy: 0.9691 - val_loss: 1.1724\n",
      "Epoch 14/100\n",
      "\u001b[1m11/11\u001b[0m \u001b[32m━━━━━━━━━━━━━━━━━━━━\u001b[0m\u001b[37m\u001b[0m \u001b[1m0s\u001b[0m 6ms/step - dense_14_binary_accuracy: 0.7506 - dense_9_binary_accuracy: 0.9689 - loss: 1.1762 - val_dense_14_binary_accuracy: 0.7343 - val_dense_9_binary_accuracy: 0.9691 - val_loss: 1.1430\n",
      "Epoch 15/100\n",
      "\u001b[1m11/11\u001b[0m \u001b[32m━━━━━━━━━━━━━━━━━━━━\u001b[0m\u001b[37m\u001b[0m \u001b[1m0s\u001b[0m 5ms/step - dense_14_binary_accuracy: 0.7419 - dense_9_binary_accuracy: 0.9689 - loss: 1.1501 - val_dense_14_binary_accuracy: 0.7343 - val_dense_9_binary_accuracy: 0.9691 - val_loss: 1.1103\n",
      "Epoch 16/100\n",
      "\u001b[1m11/11\u001b[0m \u001b[32m━━━━━━━━━━━━━━━━━━━━\u001b[0m\u001b[37m\u001b[0m \u001b[1m0s\u001b[0m 5ms/step - dense_14_binary_accuracy: 0.7411 - dense_9_binary_accuracy: 0.9689 - loss: 1.1161 - val_dense_14_binary_accuracy: 0.7343 - val_dense_9_binary_accuracy: 0.9691 - val_loss: 1.0740\n",
      "Epoch 17/100\n",
      "\u001b[1m11/11\u001b[0m \u001b[32m━━━━━━━━━━━━━━━━━━━━\u001b[0m\u001b[37m\u001b[0m \u001b[1m0s\u001b[0m 5ms/step - dense_14_binary_accuracy: 0.7484 - dense_9_binary_accuracy: 0.9689 - loss: 1.0712 - val_dense_14_binary_accuracy: 0.7343 - val_dense_9_binary_accuracy: 0.9691 - val_loss: 1.0364\n",
      "Epoch 18/100\n",
      "\u001b[1m11/11\u001b[0m \u001b[32m━━━━━━━━━━━━━━━━━━━━\u001b[0m\u001b[37m\u001b[0m \u001b[1m0s\u001b[0m 5ms/step - dense_14_binary_accuracy: 0.7508 - dense_9_binary_accuracy: 0.9688 - loss: 1.0319 - val_dense_14_binary_accuracy: 0.7343 - val_dense_9_binary_accuracy: 0.9691 - val_loss: 0.9980\n",
      "Epoch 19/100\n",
      "\u001b[1m11/11\u001b[0m \u001b[32m━━━━━━━━━━━━━━━━━━━━\u001b[0m\u001b[37m\u001b[0m \u001b[1m0s\u001b[0m 5ms/step - dense_14_binary_accuracy: 0.7491 - dense_9_binary_accuracy: 0.9689 - loss: 0.9867 - val_dense_14_binary_accuracy: 0.7343 - val_dense_9_binary_accuracy: 0.9691 - val_loss: 0.9498\n",
      "Epoch 20/100\n",
      "\u001b[1m11/11\u001b[0m \u001b[32m━━━━━━━━━━━━━━━━━━━━\u001b[0m\u001b[37m\u001b[0m \u001b[1m0s\u001b[0m 6ms/step - dense_14_binary_accuracy: 0.7477 - dense_9_binary_accuracy: 0.9689 - loss: 0.9467 - val_dense_14_binary_accuracy: 0.7343 - val_dense_9_binary_accuracy: 0.9691 - val_loss: 0.9166\n",
      "Epoch 21/100\n",
      "\u001b[1m11/11\u001b[0m \u001b[32m━━━━━━━━━━━━━━━━━━━━\u001b[0m\u001b[37m\u001b[0m \u001b[1m0s\u001b[0m 6ms/step - dense_14_binary_accuracy: 0.7480 - dense_9_binary_accuracy: 0.9690 - loss: 0.9042 - val_dense_14_binary_accuracy: 0.7343 - val_dense_9_binary_accuracy: 0.9691 - val_loss: 0.8621\n",
      "Epoch 22/100\n",
      "\u001b[1m11/11\u001b[0m \u001b[32m━━━━━━━━━━━━━━━━━━━━\u001b[0m\u001b[37m\u001b[0m \u001b[1m0s\u001b[0m 6ms/step - dense_14_binary_accuracy: 0.7457 - dense_9_binary_accuracy: 0.9689 - loss: 0.8620 - val_dense_14_binary_accuracy: 0.7343 - val_dense_9_binary_accuracy: 0.9691 - val_loss: 0.8295\n",
      "Epoch 23/100\n",
      "\u001b[1m11/11\u001b[0m \u001b[32m━━━━━━━━━━━━━━━━━━━━\u001b[0m\u001b[37m\u001b[0m \u001b[1m0s\u001b[0m 5ms/step - dense_14_binary_accuracy: 0.7550 - dense_9_binary_accuracy: 0.9689 - loss: 0.8137 - val_dense_14_binary_accuracy: 0.7343 - val_dense_9_binary_accuracy: 0.9691 - val_loss: 0.7896\n",
      "Epoch 24/100\n",
      "\u001b[1m11/11\u001b[0m \u001b[32m━━━━━━━━━━━━━━━━━━━━\u001b[0m\u001b[37m\u001b[0m \u001b[1m0s\u001b[0m 5ms/step - dense_14_binary_accuracy: 0.7473 - dense_9_binary_accuracy: 0.9689 - loss: 0.7877 - val_dense_14_binary_accuracy: 0.7343 - val_dense_9_binary_accuracy: 0.9691 - val_loss: 0.7674\n",
      "Epoch 25/100\n",
      "\u001b[1m11/11\u001b[0m \u001b[32m━━━━━━━━━━━━━━━━━━━━\u001b[0m\u001b[37m\u001b[0m \u001b[1m0s\u001b[0m 5ms/step - dense_14_binary_accuracy: 0.7521 - dense_9_binary_accuracy: 0.9690 - loss: 0.7540 - val_dense_14_binary_accuracy: 0.7343 - val_dense_9_binary_accuracy: 0.9691 - val_loss: 0.7473\n",
      "Epoch 26/100\n",
      "\u001b[1m11/11\u001b[0m \u001b[32m━━━━━━━━━━━━━━━━━━━━\u001b[0m\u001b[37m\u001b[0m \u001b[1m0s\u001b[0m 5ms/step - dense_14_binary_accuracy: 0.7501 - dense_9_binary_accuracy: 0.9689 - loss: 0.7360 - val_dense_14_binary_accuracy: 0.7343 - val_dense_9_binary_accuracy: 0.9691 - val_loss: 0.7325\n",
      "Epoch 27/100\n",
      "\u001b[1m11/11\u001b[0m \u001b[32m━━━━━━━━━━━━━━━━━━━━\u001b[0m\u001b[37m\u001b[0m \u001b[1m0s\u001b[0m 6ms/step - dense_14_binary_accuracy: 0.7541 - dense_9_binary_accuracy: 0.9690 - loss: 0.7209 - val_dense_14_binary_accuracy: 0.7343 - val_dense_9_binary_accuracy: 0.9691 - val_loss: 0.7142\n",
      "Epoch 28/100\n",
      "\u001b[1m11/11\u001b[0m \u001b[32m━━━━━━━━━━━━━━━━━━━━\u001b[0m\u001b[37m\u001b[0m \u001b[1m0s\u001b[0m 6ms/step - dense_14_binary_accuracy: 0.7455 - dense_9_binary_accuracy: 0.9689 - loss: 0.7184 - val_dense_14_binary_accuracy: 0.7343 - val_dense_9_binary_accuracy: 0.9691 - val_loss: 0.7066\n",
      "Epoch 29/100\n",
      "\u001b[1m11/11\u001b[0m \u001b[32m━━━━━━━━━━━━━━━━━━━━\u001b[0m\u001b[37m\u001b[0m \u001b[1m0s\u001b[0m 5ms/step - dense_14_binary_accuracy: 0.7472 - dense_9_binary_accuracy: 0.9689 - loss: 0.7067 - val_dense_14_binary_accuracy: 0.7343 - val_dense_9_binary_accuracy: 0.9691 - val_loss: 0.7042\n",
      "Epoch 30/100\n",
      "\u001b[1m11/11\u001b[0m \u001b[32m━━━━━━━━━━━━━━━━━━━━\u001b[0m\u001b[37m\u001b[0m \u001b[1m0s\u001b[0m 6ms/step - dense_14_binary_accuracy: 0.7503 - dense_9_binary_accuracy: 0.9690 - loss: 0.6996 - val_dense_14_binary_accuracy: 0.7343 - val_dense_9_binary_accuracy: 0.9691 - val_loss: 0.6954\n",
      "Epoch 31/100\n",
      "\u001b[1m11/11\u001b[0m \u001b[32m━━━━━━━━━━━━━━━━━━━━\u001b[0m\u001b[37m\u001b[0m \u001b[1m0s\u001b[0m 6ms/step - dense_14_binary_accuracy: 0.7492 - dense_9_binary_accuracy: 0.9689 - loss: 0.6956 - val_dense_14_binary_accuracy: 0.7343 - val_dense_9_binary_accuracy: 0.9691 - val_loss: 0.7296\n",
      "Epoch 32/100\n",
      "\u001b[1m11/11\u001b[0m \u001b[32m━━━━━━━━━━━━━━━━━━━━\u001b[0m\u001b[37m\u001b[0m \u001b[1m0s\u001b[0m 6ms/step - dense_14_binary_accuracy: 0.7505 - dense_9_binary_accuracy: 0.9690 - loss: 0.6900 - val_dense_14_binary_accuracy: 0.7343 - val_dense_9_binary_accuracy: 0.9691 - val_loss: 0.7131\n",
      "Epoch 33/100\n",
      "\u001b[1m11/11\u001b[0m \u001b[32m━━━━━━━━━━━━━━━━━━━━\u001b[0m\u001b[37m\u001b[0m \u001b[1m0s\u001b[0m 5ms/step - dense_14_binary_accuracy: 0.7472 - dense_9_binary_accuracy: 0.9690 - loss: 0.6927 - val_dense_14_binary_accuracy: 0.7343 - val_dense_9_binary_accuracy: 0.9691 - val_loss: 0.7091\n",
      "Epoch 34/100\n",
      "\u001b[1m11/11\u001b[0m \u001b[32m━━━━━━━━━━━━━━━━━━━━\u001b[0m\u001b[37m\u001b[0m \u001b[1m0s\u001b[0m 5ms/step - dense_14_binary_accuracy: 0.7490 - dense_9_binary_accuracy: 0.9689 - loss: 0.6830 - val_dense_14_binary_accuracy: 0.7343 - val_dense_9_binary_accuracy: 0.9691 - val_loss: 0.6816\n",
      "Epoch 35/100\n",
      "\u001b[1m11/11\u001b[0m \u001b[32m━━━━━━━━━━━━━━━━━━━━\u001b[0m\u001b[37m\u001b[0m \u001b[1m0s\u001b[0m 5ms/step - dense_14_binary_accuracy: 0.7506 - dense_9_binary_accuracy: 0.9689 - loss: 0.6788 - val_dense_14_binary_accuracy: 0.7343 - val_dense_9_binary_accuracy: 0.9691 - val_loss: 0.7179\n",
      "Epoch 36/100\n",
      "\u001b[1m11/11\u001b[0m \u001b[32m━━━━━━━━━━━━━━━━━━━━\u001b[0m\u001b[37m\u001b[0m \u001b[1m0s\u001b[0m 5ms/step - dense_14_binary_accuracy: 0.7466 - dense_9_binary_accuracy: 0.9689 - loss: 0.6808 - val_dense_14_binary_accuracy: 0.7343 - val_dense_9_binary_accuracy: 0.9691 - val_loss: 0.6770\n",
      "Epoch 37/100\n",
      "\u001b[1m11/11\u001b[0m \u001b[32m━━━━━━━━━━━━━━━━━━━━\u001b[0m\u001b[37m\u001b[0m \u001b[1m0s\u001b[0m 6ms/step - dense_14_binary_accuracy: 0.7495 - dense_9_binary_accuracy: 0.9690 - loss: 0.6663 - val_dense_14_binary_accuracy: 0.7343 - val_dense_9_binary_accuracy: 0.9691 - val_loss: 0.6762\n",
      "Epoch 38/100\n",
      "\u001b[1m11/11\u001b[0m \u001b[32m━━━━━━━━━━━━━━━━━━━━\u001b[0m\u001b[37m\u001b[0m \u001b[1m0s\u001b[0m 5ms/step - dense_14_binary_accuracy: 0.7544 - dense_9_binary_accuracy: 0.9690 - loss: 0.6593 - val_dense_14_binary_accuracy: 0.7343 - val_dense_9_binary_accuracy: 0.9691 - val_loss: 0.6840\n",
      "Epoch 39/100\n",
      "\u001b[1m11/11\u001b[0m \u001b[32m━━━━━━━━━━━━━━━━━━━━\u001b[0m\u001b[37m\u001b[0m \u001b[1m0s\u001b[0m 5ms/step - dense_14_binary_accuracy: 0.7428 - dense_9_binary_accuracy: 0.9690 - loss: 0.6734 - val_dense_14_binary_accuracy: 0.7343 - val_dense_9_binary_accuracy: 0.9691 - val_loss: 0.6705\n",
      "Epoch 40/100\n",
      "\u001b[1m11/11\u001b[0m \u001b[32m━━━━━━━━━━━━━━━━━━━━\u001b[0m\u001b[37m\u001b[0m \u001b[1m0s\u001b[0m 5ms/step - dense_14_binary_accuracy: 0.7500 - dense_9_binary_accuracy: 0.9689 - loss: 0.6593 - val_dense_14_binary_accuracy: 0.7343 - val_dense_9_binary_accuracy: 0.9691 - val_loss: 0.6666\n",
      "Epoch 41/100\n",
      "\u001b[1m11/11\u001b[0m \u001b[32m━━━━━━━━━━━━━━━━━━━━\u001b[0m\u001b[37m\u001b[0m \u001b[1m0s\u001b[0m 5ms/step - dense_14_binary_accuracy: 0.7458 - dense_9_binary_accuracy: 0.9689 - loss: 0.6582 - val_dense_14_binary_accuracy: 0.7343 - val_dense_9_binary_accuracy: 0.9691 - val_loss: 0.6623\n",
      "Epoch 42/100\n",
      "\u001b[1m11/11\u001b[0m \u001b[32m━━━━━━━━━━━━━━━━━━━━\u001b[0m\u001b[37m\u001b[0m \u001b[1m0s\u001b[0m 5ms/step - dense_14_binary_accuracy: 0.7428 - dense_9_binary_accuracy: 0.9690 - loss: 0.6590 - val_dense_14_binary_accuracy: 0.7343 - val_dense_9_binary_accuracy: 0.9691 - val_loss: 0.6603\n",
      "Epoch 43/100\n",
      "\u001b[1m11/11\u001b[0m \u001b[32m━━━━━━━━━━━━━━━━━━━━\u001b[0m\u001b[37m\u001b[0m \u001b[1m0s\u001b[0m 5ms/step - dense_14_binary_accuracy: 0.7464 - dense_9_binary_accuracy: 0.9689 - loss: 0.6577 - val_dense_14_binary_accuracy: 0.7343 - val_dense_9_binary_accuracy: 0.9691 - val_loss: 0.6577\n",
      "Epoch 44/100\n",
      "\u001b[1m11/11\u001b[0m \u001b[32m━━━━━━━━━━━━━━━━━━━━\u001b[0m\u001b[37m\u001b[0m \u001b[1m0s\u001b[0m 5ms/step - dense_14_binary_accuracy: 0.7471 - dense_9_binary_accuracy: 0.9689 - loss: 0.6586 - val_dense_14_binary_accuracy: 0.7343 - val_dense_9_binary_accuracy: 0.9691 - val_loss: 0.6639\n",
      "Epoch 45/100\n",
      "\u001b[1m11/11\u001b[0m \u001b[32m━━━━━━━━━━━━━━━━━━━━\u001b[0m\u001b[37m\u001b[0m \u001b[1m0s\u001b[0m 5ms/step - dense_14_binary_accuracy: 0.7428 - dense_9_binary_accuracy: 0.9689 - loss: 0.6615 - val_dense_14_binary_accuracy: 0.7343 - val_dense_9_binary_accuracy: 0.9691 - val_loss: 0.6702\n",
      "Epoch 46/100\n",
      "\u001b[1m11/11\u001b[0m \u001b[32m━━━━━━━━━━━━━━━━━━━━\u001b[0m\u001b[37m\u001b[0m \u001b[1m0s\u001b[0m 5ms/step - dense_14_binary_accuracy: 0.7438 - dense_9_binary_accuracy: 0.9690 - loss: 0.6530 - val_dense_14_binary_accuracy: 0.7343 - val_dense_9_binary_accuracy: 0.9691 - val_loss: 0.6572\n",
      "Epoch 47/100\n",
      "\u001b[1m11/11\u001b[0m \u001b[32m━━━━━━━━━━━━━━━━━━━━\u001b[0m\u001b[37m\u001b[0m \u001b[1m0s\u001b[0m 5ms/step - dense_14_binary_accuracy: 0.7481 - dense_9_binary_accuracy: 0.9690 - loss: 0.6396 - val_dense_14_binary_accuracy: 0.7343 - val_dense_9_binary_accuracy: 0.9691 - val_loss: 0.6509\n",
      "Epoch 48/100\n",
      "\u001b[1m11/11\u001b[0m \u001b[32m━━━━━━━━━━━━━━━━━━━━\u001b[0m\u001b[37m\u001b[0m \u001b[1m0s\u001b[0m 5ms/step - dense_14_binary_accuracy: 0.7514 - dense_9_binary_accuracy: 0.9689 - loss: 0.6317 - val_dense_14_binary_accuracy: 0.7343 - val_dense_9_binary_accuracy: 0.9691 - val_loss: 0.6445\n",
      "Epoch 49/100\n",
      "\u001b[1m11/11\u001b[0m \u001b[32m━━━━━━━━━━━━━━━━━━━━\u001b[0m\u001b[37m\u001b[0m \u001b[1m0s\u001b[0m 5ms/step - dense_14_binary_accuracy: 0.7521 - dense_9_binary_accuracy: 0.9689 - loss: 0.6252 - val_dense_14_binary_accuracy: 0.7343 - val_dense_9_binary_accuracy: 0.9691 - val_loss: 0.6474\n",
      "Epoch 50/100\n",
      "\u001b[1m11/11\u001b[0m \u001b[32m━━━━━━━━━━━━━━━━━━━━\u001b[0m\u001b[37m\u001b[0m \u001b[1m0s\u001b[0m 5ms/step - dense_14_binary_accuracy: 0.7459 - dense_9_binary_accuracy: 0.9689 - loss: 0.6381 - val_dense_14_binary_accuracy: 0.7343 - val_dense_9_binary_accuracy: 0.9691 - val_loss: 0.6416\n",
      "Epoch 51/100\n",
      "\u001b[1m11/11\u001b[0m \u001b[32m━━━━━━━━━━━━━━━━━━━━\u001b[0m\u001b[37m\u001b[0m \u001b[1m0s\u001b[0m 4ms/step - dense_14_binary_accuracy: 0.7458 - dense_9_binary_accuracy: 0.9689 - loss: 0.6339 - val_dense_14_binary_accuracy: 0.7343 - val_dense_9_binary_accuracy: 0.9691 - val_loss: 0.6421\n",
      "Epoch 52/100\n",
      "\u001b[1m11/11\u001b[0m \u001b[32m━━━━━━━━━━━━━━━━━━━━\u001b[0m\u001b[37m\u001b[0m \u001b[1m0s\u001b[0m 5ms/step - dense_14_binary_accuracy: 0.7537 - dense_9_binary_accuracy: 0.9691 - loss: 0.6141 - val_dense_14_binary_accuracy: 0.7343 - val_dense_9_binary_accuracy: 0.9691 - val_loss: 0.6448\n",
      "Epoch 53/100\n",
      "\u001b[1m11/11\u001b[0m \u001b[32m━━━━━━━━━━━━━━━━━━━━\u001b[0m\u001b[37m\u001b[0m \u001b[1m0s\u001b[0m 5ms/step - dense_14_binary_accuracy: 0.7536 - dense_9_binary_accuracy: 0.9689 - loss: 0.6183 - val_dense_14_binary_accuracy: 0.7343 - val_dense_9_binary_accuracy: 0.9691 - val_loss: 0.6316\n",
      "Epoch 54/100\n",
      "\u001b[1m11/11\u001b[0m \u001b[32m━━━━━━━━━━━━━━━━━━━━\u001b[0m\u001b[37m\u001b[0m \u001b[1m0s\u001b[0m 5ms/step - dense_14_binary_accuracy: 0.7489 - dense_9_binary_accuracy: 0.9690 - loss: 0.6180 - val_dense_14_binary_accuracy: 0.7343 - val_dense_9_binary_accuracy: 0.9691 - val_loss: 0.6362\n",
      "Epoch 55/100\n",
      "\u001b[1m11/11\u001b[0m \u001b[32m━━━━━━━━━━━━━━━━━━━━\u001b[0m\u001b[37m\u001b[0m \u001b[1m0s\u001b[0m 4ms/step - dense_14_binary_accuracy: 0.7440 - dense_9_binary_accuracy: 0.9689 - loss: 0.6260 - val_dense_14_binary_accuracy: 0.7343 - val_dense_9_binary_accuracy: 0.9691 - val_loss: 0.6273\n",
      "Epoch 56/100\n",
      "\u001b[1m11/11\u001b[0m \u001b[32m━━━━━━━━━━━━━━━━━━━━\u001b[0m\u001b[37m\u001b[0m \u001b[1m0s\u001b[0m 5ms/step - dense_14_binary_accuracy: 0.7482 - dense_9_binary_accuracy: 0.9690 - loss: 0.6236 - val_dense_14_binary_accuracy: 0.7343 - val_dense_9_binary_accuracy: 0.9691 - val_loss: 0.6240\n",
      "Epoch 57/100\n",
      "\u001b[1m11/11\u001b[0m \u001b[32m━━━━━━━━━━━━━━━━━━━━\u001b[0m\u001b[37m\u001b[0m \u001b[1m0s\u001b[0m 5ms/step - dense_14_binary_accuracy: 0.7427 - dense_9_binary_accuracy: 0.9689 - loss: 0.6250 - val_dense_14_binary_accuracy: 0.7343 - val_dense_9_binary_accuracy: 0.9691 - val_loss: 0.6242\n",
      "Epoch 58/100\n",
      "\u001b[1m11/11\u001b[0m \u001b[32m━━━━━━━━━━━━━━━━━━━━\u001b[0m\u001b[37m\u001b[0m \u001b[1m0s\u001b[0m 5ms/step - dense_14_binary_accuracy: 0.7503 - dense_9_binary_accuracy: 0.9690 - loss: 0.6028 - val_dense_14_binary_accuracy: 0.7343 - val_dense_9_binary_accuracy: 0.9691 - val_loss: 0.6436\n",
      "Epoch 59/100\n",
      "\u001b[1m11/11\u001b[0m \u001b[32m━━━━━━━━━━━━━━━━━━━━\u001b[0m\u001b[37m\u001b[0m \u001b[1m0s\u001b[0m 5ms/step - dense_14_binary_accuracy: 0.7503 - dense_9_binary_accuracy: 0.9689 - loss: 0.6078 - val_dense_14_binary_accuracy: 0.7343 - val_dense_9_binary_accuracy: 0.9691 - val_loss: 0.6184\n",
      "Epoch 60/100\n",
      "\u001b[1m11/11\u001b[0m \u001b[32m━━━━━━━━━━━━━━━━━━━━\u001b[0m\u001b[37m\u001b[0m \u001b[1m0s\u001b[0m 5ms/step - dense_14_binary_accuracy: 0.7493 - dense_9_binary_accuracy: 0.9689 - loss: 0.6027 - val_dense_14_binary_accuracy: 0.7343 - val_dense_9_binary_accuracy: 0.9691 - val_loss: 0.6162\n",
      "Epoch 61/100\n",
      "\u001b[1m11/11\u001b[0m \u001b[32m━━━━━━━━━━━━━━━━━━━━\u001b[0m\u001b[37m\u001b[0m \u001b[1m0s\u001b[0m 5ms/step - dense_14_binary_accuracy: 0.7471 - dense_9_binary_accuracy: 0.9690 - loss: 0.6041 - val_dense_14_binary_accuracy: 0.7343 - val_dense_9_binary_accuracy: 0.9691 - val_loss: 0.6165\n",
      "Epoch 62/100\n",
      "\u001b[1m11/11\u001b[0m \u001b[32m━━━━━━━━━━━━━━━━━━━━\u001b[0m\u001b[37m\u001b[0m \u001b[1m0s\u001b[0m 4ms/step - dense_14_binary_accuracy: 0.7527 - dense_9_binary_accuracy: 0.9689 - loss: 0.5959 - val_dense_14_binary_accuracy: 0.7343 - val_dense_9_binary_accuracy: 0.9691 - val_loss: 0.6147\n",
      "Epoch 63/100\n",
      "\u001b[1m11/11\u001b[0m \u001b[32m━━━━━━━━━━━━━━━━━━━━\u001b[0m\u001b[37m\u001b[0m \u001b[1m0s\u001b[0m 4ms/step - dense_14_binary_accuracy: 0.7520 - dense_9_binary_accuracy: 0.9690 - loss: 0.5929 - val_dense_14_binary_accuracy: 0.7343 - val_dense_9_binary_accuracy: 0.9691 - val_loss: 0.6312\n",
      "Epoch 64/100\n",
      "\u001b[1m11/11\u001b[0m \u001b[32m━━━━━━━━━━━━━━━━━━━━\u001b[0m\u001b[37m\u001b[0m \u001b[1m0s\u001b[0m 4ms/step - dense_14_binary_accuracy: 0.7535 - dense_9_binary_accuracy: 0.9689 - loss: 0.5922 - val_dense_14_binary_accuracy: 0.7343 - val_dense_9_binary_accuracy: 0.9691 - val_loss: 0.6146\n",
      "Epoch 65/100\n",
      "\u001b[1m11/11\u001b[0m \u001b[32m━━━━━━━━━━━━━━━━━━━━\u001b[0m\u001b[37m\u001b[0m \u001b[1m0s\u001b[0m 4ms/step - dense_14_binary_accuracy: 0.7426 - dense_9_binary_accuracy: 0.9690 - loss: 0.6021 - val_dense_14_binary_accuracy: 0.7343 - val_dense_9_binary_accuracy: 0.9691 - val_loss: 0.6178\n",
      "Epoch 66/100\n",
      "\u001b[1m11/11\u001b[0m \u001b[32m━━━━━━━━━━━━━━━━━━━━\u001b[0m\u001b[37m\u001b[0m \u001b[1m0s\u001b[0m 5ms/step - dense_14_binary_accuracy: 0.7463 - dense_9_binary_accuracy: 0.9690 - loss: 0.5955 - val_dense_14_binary_accuracy: 0.7343 - val_dense_9_binary_accuracy: 0.9691 - val_loss: 0.6125\n",
      "Epoch 67/100\n",
      "\u001b[1m11/11\u001b[0m \u001b[32m━━━━━━━━━━━━━━━━━━━━\u001b[0m\u001b[37m\u001b[0m \u001b[1m0s\u001b[0m 4ms/step - dense_14_binary_accuracy: 0.7437 - dense_9_binary_accuracy: 0.9690 - loss: 0.6008 - val_dense_14_binary_accuracy: 0.7343 - val_dense_9_binary_accuracy: 0.9691 - val_loss: 0.6037\n",
      "Epoch 68/100\n",
      "\u001b[1m11/11\u001b[0m \u001b[32m━━━━━━━━━━━━━━━━━━━━\u001b[0m\u001b[37m\u001b[0m \u001b[1m0s\u001b[0m 5ms/step - dense_14_binary_accuracy: 0.7487 - dense_9_binary_accuracy: 0.9689 - loss: 0.5904 - val_dense_14_binary_accuracy: 0.7343 - val_dense_9_binary_accuracy: 0.9691 - val_loss: 0.6117\n",
      "Epoch 69/100\n",
      "\u001b[1m11/11\u001b[0m \u001b[32m━━━━━━━━━━━━━━━━━━━━\u001b[0m\u001b[37m\u001b[0m \u001b[1m0s\u001b[0m 5ms/step - dense_14_binary_accuracy: 0.7461 - dense_9_binary_accuracy: 0.9689 - loss: 0.5968 - val_dense_14_binary_accuracy: 0.7343 - val_dense_9_binary_accuracy: 0.9691 - val_loss: 0.6051\n",
      "Epoch 70/100\n",
      "\u001b[1m11/11\u001b[0m \u001b[32m━━━━━━━━━━━━━━━━━━━━\u001b[0m\u001b[37m\u001b[0m \u001b[1m0s\u001b[0m 4ms/step - dense_14_binary_accuracy: 0.7462 - dense_9_binary_accuracy: 0.9689 - loss: 0.5923 - val_dense_14_binary_accuracy: 0.7343 - val_dense_9_binary_accuracy: 0.9691 - val_loss: 0.5999\n",
      "Epoch 71/100\n",
      "\u001b[1m11/11\u001b[0m \u001b[32m━━━━━━━━━━━━━━━━━━━━\u001b[0m\u001b[37m\u001b[0m \u001b[1m0s\u001b[0m 5ms/step - dense_14_binary_accuracy: 0.7504 - dense_9_binary_accuracy: 0.9689 - loss: 0.5845 - val_dense_14_binary_accuracy: 0.7343 - val_dense_9_binary_accuracy: 0.9691 - val_loss: 0.5984\n",
      "Epoch 72/100\n",
      "\u001b[1m11/11\u001b[0m \u001b[32m━━━━━━━━━━━━━━━━━━━━\u001b[0m\u001b[37m\u001b[0m \u001b[1m0s\u001b[0m 5ms/step - dense_14_binary_accuracy: 0.7470 - dense_9_binary_accuracy: 0.9689 - loss: 0.5853 - val_dense_14_binary_accuracy: 0.7343 - val_dense_9_binary_accuracy: 0.9691 - val_loss: 0.6056\n",
      "Epoch 73/100\n",
      "\u001b[1m11/11\u001b[0m \u001b[32m━━━━━━━━━━━━━━━━━━━━\u001b[0m\u001b[37m\u001b[0m \u001b[1m0s\u001b[0m 5ms/step - dense_14_binary_accuracy: 0.7500 - dense_9_binary_accuracy: 0.9689 - loss: 0.5824 - val_dense_14_binary_accuracy: 0.7343 - val_dense_9_binary_accuracy: 0.9691 - val_loss: 0.5958\n",
      "Epoch 74/100\n",
      "\u001b[1m11/11\u001b[0m \u001b[32m━━━━━━━━━━━━━━━━━━━━\u001b[0m\u001b[37m\u001b[0m \u001b[1m0s\u001b[0m 5ms/step - dense_14_binary_accuracy: 0.7454 - dense_9_binary_accuracy: 0.9689 - loss: 0.5873 - val_dense_14_binary_accuracy: 0.7343 - val_dense_9_binary_accuracy: 0.9691 - val_loss: 0.5955\n",
      "Epoch 75/100\n",
      "\u001b[1m11/11\u001b[0m \u001b[32m━━━━━━━━━━━━━━━━━━━━\u001b[0m\u001b[37m\u001b[0m \u001b[1m0s\u001b[0m 5ms/step - dense_14_binary_accuracy: 0.7468 - dense_9_binary_accuracy: 0.9689 - loss: 0.5862 - val_dense_14_binary_accuracy: 0.7343 - val_dense_9_binary_accuracy: 0.9691 - val_loss: 0.5942\n",
      "Epoch 76/100\n",
      "\u001b[1m11/11\u001b[0m \u001b[32m━━━━━━━━━━━━━━━━━━━━\u001b[0m\u001b[37m\u001b[0m \u001b[1m0s\u001b[0m 5ms/step - dense_14_binary_accuracy: 0.7506 - dense_9_binary_accuracy: 0.9689 - loss: 0.5795 - val_dense_14_binary_accuracy: 0.7343 - val_dense_9_binary_accuracy: 0.9691 - val_loss: 0.5948\n",
      "Epoch 77/100\n",
      "\u001b[1m11/11\u001b[0m \u001b[32m━━━━━━━━━━━━━━━━━━━━\u001b[0m\u001b[37m\u001b[0m \u001b[1m0s\u001b[0m 5ms/step - dense_14_binary_accuracy: 0.7597 - dense_9_binary_accuracy: 0.9689 - loss: 0.5555 - val_dense_14_binary_accuracy: 0.7343 - val_dense_9_binary_accuracy: 0.9691 - val_loss: 0.5930\n",
      "Epoch 78/100\n",
      "\u001b[1m11/11\u001b[0m \u001b[32m━━━━━━━━━━━━━━━━━━━━\u001b[0m\u001b[37m\u001b[0m \u001b[1m0s\u001b[0m 5ms/step - dense_14_binary_accuracy: 0.7516 - dense_9_binary_accuracy: 0.9689 - loss: 0.5703 - val_dense_14_binary_accuracy: 0.7343 - val_dense_9_binary_accuracy: 0.9691 - val_loss: 0.5915\n",
      "Epoch 79/100\n",
      "\u001b[1m11/11\u001b[0m \u001b[32m━━━━━━━━━━━━━━━━━━━━\u001b[0m\u001b[37m\u001b[0m \u001b[1m0s\u001b[0m 5ms/step - dense_14_binary_accuracy: 0.7463 - dense_9_binary_accuracy: 0.9689 - loss: 0.5806 - val_dense_14_binary_accuracy: 0.7343 - val_dense_9_binary_accuracy: 0.9691 - val_loss: 0.5975\n",
      "Epoch 80/100\n",
      "\u001b[1m11/11\u001b[0m \u001b[32m━━━━━━━━━━━━━━━━━━━━\u001b[0m\u001b[37m\u001b[0m \u001b[1m0s\u001b[0m 4ms/step - dense_14_binary_accuracy: 0.7467 - dense_9_binary_accuracy: 0.9689 - loss: 0.5800 - val_dense_14_binary_accuracy: 0.7343 - val_dense_9_binary_accuracy: 0.9691 - val_loss: 0.5921\n",
      "Epoch 81/100\n",
      "\u001b[1m11/11\u001b[0m \u001b[32m━━━━━━━━━━━━━━━━━━━━\u001b[0m\u001b[37m\u001b[0m \u001b[1m0s\u001b[0m 5ms/step - dense_14_binary_accuracy: 0.7496 - dense_9_binary_accuracy: 0.9688 - loss: 0.5764 - val_dense_14_binary_accuracy: 0.7343 - val_dense_9_binary_accuracy: 0.9691 - val_loss: 0.5887\n",
      "Epoch 82/100\n",
      "\u001b[1m11/11\u001b[0m \u001b[32m━━━━━━━━━━━━━━━━━━━━\u001b[0m\u001b[37m\u001b[0m \u001b[1m0s\u001b[0m 4ms/step - dense_14_binary_accuracy: 0.7518 - dense_9_binary_accuracy: 0.9689 - loss: 0.5666 - val_dense_14_binary_accuracy: 0.7343 - val_dense_9_binary_accuracy: 0.9691 - val_loss: 0.5890\n",
      "Epoch 83/100\n",
      "\u001b[1m11/11\u001b[0m \u001b[32m━━━━━━━━━━━━━━━━━━━━\u001b[0m\u001b[37m\u001b[0m \u001b[1m0s\u001b[0m 5ms/step - dense_14_binary_accuracy: 0.7493 - dense_9_binary_accuracy: 0.9689 - loss: 0.5682 - val_dense_14_binary_accuracy: 0.7343 - val_dense_9_binary_accuracy: 0.9691 - val_loss: 0.5872\n",
      "Epoch 84/100\n",
      "\u001b[1m11/11\u001b[0m \u001b[32m━━━━━━━━━━━━━━━━━━━━\u001b[0m\u001b[37m\u001b[0m \u001b[1m0s\u001b[0m 5ms/step - dense_14_binary_accuracy: 0.7502 - dense_9_binary_accuracy: 0.9689 - loss: 0.5739 - val_dense_14_binary_accuracy: 0.7343 - val_dense_9_binary_accuracy: 0.9691 - val_loss: 0.6115\n",
      "Epoch 85/100\n",
      "\u001b[1m11/11\u001b[0m \u001b[32m━━━━━━━━━━━━━━━━━━━━\u001b[0m\u001b[37m\u001b[0m \u001b[1m0s\u001b[0m 5ms/step - dense_14_binary_accuracy: 0.7487 - dense_9_binary_accuracy: 0.9690 - loss: 0.5760 - val_dense_14_binary_accuracy: 0.7343 - val_dense_9_binary_accuracy: 0.9691 - val_loss: 0.5866\n",
      "Epoch 86/100\n",
      "\u001b[1m11/11\u001b[0m \u001b[32m━━━━━━━━━━━━━━━━━━━━\u001b[0m\u001b[37m\u001b[0m \u001b[1m0s\u001b[0m 5ms/step - dense_14_binary_accuracy: 0.7473 - dense_9_binary_accuracy: 0.9690 - loss: 0.5719 - val_dense_14_binary_accuracy: 0.7343 - val_dense_9_binary_accuracy: 0.9691 - val_loss: 0.6268\n",
      "Epoch 87/100\n",
      "\u001b[1m11/11\u001b[0m \u001b[32m━━━━━━━━━━━━━━━━━━━━\u001b[0m\u001b[37m\u001b[0m \u001b[1m0s\u001b[0m 5ms/step - dense_14_binary_accuracy: 0.7530 - dense_9_binary_accuracy: 0.9690 - loss: 0.5643 - val_dense_14_binary_accuracy: 0.7343 - val_dense_9_binary_accuracy: 0.9691 - val_loss: 0.5890\n",
      "Epoch 88/100\n",
      "\u001b[1m11/11\u001b[0m \u001b[32m━━━━━━━━━━━━━━━━━━━━\u001b[0m\u001b[37m\u001b[0m \u001b[1m0s\u001b[0m 5ms/step - dense_14_binary_accuracy: 0.7575 - dense_9_binary_accuracy: 0.9689 - loss: 0.5572 - val_dense_14_binary_accuracy: 0.7343 - val_dense_9_binary_accuracy: 0.9691 - val_loss: 0.5843\n",
      "Epoch 89/100\n",
      "\u001b[1m11/11\u001b[0m \u001b[32m━━━━━━━━━━━━━━━━━━━━\u001b[0m\u001b[37m\u001b[0m \u001b[1m0s\u001b[0m 5ms/step - dense_14_binary_accuracy: 0.7451 - dense_9_binary_accuracy: 0.9689 - loss: 0.5760 - val_dense_14_binary_accuracy: 0.7343 - val_dense_9_binary_accuracy: 0.9691 - val_loss: 0.5868\n",
      "Epoch 90/100\n",
      "\u001b[1m11/11\u001b[0m \u001b[32m━━━━━━━━━━━━━━━━━━━━\u001b[0m\u001b[37m\u001b[0m \u001b[1m0s\u001b[0m 5ms/step - dense_14_binary_accuracy: 0.7558 - dense_9_binary_accuracy: 0.9689 - loss: 0.5550 - val_dense_14_binary_accuracy: 0.7343 - val_dense_9_binary_accuracy: 0.9691 - val_loss: 0.5997\n",
      "Epoch 91/100\n",
      "\u001b[1m11/11\u001b[0m \u001b[32m━━━━━━━━━━━━━━━━━━━━\u001b[0m\u001b[37m\u001b[0m \u001b[1m0s\u001b[0m 5ms/step - dense_14_binary_accuracy: 0.7508 - dense_9_binary_accuracy: 0.9690 - loss: 0.5627 - val_dense_14_binary_accuracy: 0.7343 - val_dense_9_binary_accuracy: 0.9691 - val_loss: 0.5876\n",
      "Epoch 92/100\n",
      "\u001b[1m11/11\u001b[0m \u001b[32m━━━━━━━━━━━━━━━━━━━━\u001b[0m\u001b[37m\u001b[0m \u001b[1m0s\u001b[0m 5ms/step - dense_14_binary_accuracy: 0.7483 - dense_9_binary_accuracy: 0.9689 - loss: 0.5645 - val_dense_14_binary_accuracy: 0.7343 - val_dense_9_binary_accuracy: 0.9691 - val_loss: 0.5821\n",
      "Epoch 93/100\n",
      "\u001b[1m11/11\u001b[0m \u001b[32m━━━━━━━━━━━━━━━━━━━━\u001b[0m\u001b[37m\u001b[0m \u001b[1m0s\u001b[0m 5ms/step - dense_14_binary_accuracy: 0.7413 - dense_9_binary_accuracy: 0.9690 - loss: 0.5768 - val_dense_14_binary_accuracy: 0.7343 - val_dense_9_binary_accuracy: 0.9691 - val_loss: 0.5891\n",
      "Epoch 94/100\n",
      "\u001b[1m11/11\u001b[0m \u001b[32m━━━━━━━━━━━━━━━━━━━━\u001b[0m\u001b[37m\u001b[0m \u001b[1m0s\u001b[0m 5ms/step - dense_14_binary_accuracy: 0.7448 - dense_9_binary_accuracy: 0.9689 - loss: 0.5712 - val_dense_14_binary_accuracy: 0.7343 - val_dense_9_binary_accuracy: 0.9691 - val_loss: 0.5805\n",
      "Epoch 95/100\n",
      "\u001b[1m11/11\u001b[0m \u001b[32m━━━━━━━━━━━━━━━━━━━━\u001b[0m\u001b[37m\u001b[0m \u001b[1m0s\u001b[0m 5ms/step - dense_14_binary_accuracy: 0.7463 - dense_9_binary_accuracy: 0.9689 - loss: 0.5752 - val_dense_14_binary_accuracy: 0.7343 - val_dense_9_binary_accuracy: 0.9691 - val_loss: 0.5915\n",
      "Epoch 96/100\n",
      "\u001b[1m11/11\u001b[0m \u001b[32m━━━━━━━━━━━━━━━━━━━━\u001b[0m\u001b[37m\u001b[0m \u001b[1m0s\u001b[0m 5ms/step - dense_14_binary_accuracy: 0.7444 - dense_9_binary_accuracy: 0.9690 - loss: 0.5722 - val_dense_14_binary_accuracy: 0.7343 - val_dense_9_binary_accuracy: 0.9691 - val_loss: 0.5830\n",
      "Epoch 97/100\n",
      "\u001b[1m11/11\u001b[0m \u001b[32m━━━━━━━━━━━━━━━━━━━━\u001b[0m\u001b[37m\u001b[0m \u001b[1m0s\u001b[0m 5ms/step - dense_14_binary_accuracy: 0.7509 - dense_9_binary_accuracy: 0.9690 - loss: 0.5562 - val_dense_14_binary_accuracy: 0.7343 - val_dense_9_binary_accuracy: 0.9691 - val_loss: 0.5967\n",
      "Epoch 98/100\n",
      "\u001b[1m11/11\u001b[0m \u001b[32m━━━━━━━━━━━━━━━━━━━━\u001b[0m\u001b[37m\u001b[0m \u001b[1m0s\u001b[0m 5ms/step - dense_14_binary_accuracy: 0.7481 - dense_9_binary_accuracy: 0.9689 - loss: 0.5658 - val_dense_14_binary_accuracy: 0.7343 - val_dense_9_binary_accuracy: 0.9691 - val_loss: 0.5779\n",
      "Epoch 99/100\n",
      "\u001b[1m11/11\u001b[0m \u001b[32m━━━━━━━━━━━━━━━━━━━━\u001b[0m\u001b[37m\u001b[0m \u001b[1m0s\u001b[0m 4ms/step - dense_14_binary_accuracy: 0.7463 - dense_9_binary_accuracy: 0.9690 - loss: 0.5626 - val_dense_14_binary_accuracy: 0.7343 - val_dense_9_binary_accuracy: 0.9691 - val_loss: 0.5862\n",
      "Epoch 100/100\n",
      "\u001b[1m11/11\u001b[0m \u001b[32m━━━━━━━━━━━━━━━━━━━━\u001b[0m\u001b[37m\u001b[0m \u001b[1m0s\u001b[0m 4ms/step - dense_14_binary_accuracy: 0.7554 - dense_9_binary_accuracy: 0.9690 - loss: 0.5443 - val_dense_14_binary_accuracy: 0.7343 - val_dense_9_binary_accuracy: 0.9691 - val_loss: 0.5774\n"
     ]
    },
    {
     "data": {
      "text/plain": [
       "<keras.src.callbacks.history.History at 0x21cbf9cf210>"
      ]
     },
     "execution_count": 13,
     "metadata": {},
     "output_type": "execute_result"
    }
   ],
   "source": [
    "model_1.fit(X_train,[y_otc_train,y_pain_train],epochs=100,batch_size=100, validation_split=0.2)\n"
   ]
  },
  {
   "cell_type": "code",
   "execution_count": 17,
   "id": "c2bda4ba-78ff-402e-b880-bd3ac99ae1f5",
   "metadata": {},
   "outputs": [
    {
     "name": "stdout",
     "output_type": "stream",
     "text": [
      "\u001b[1m18/18\u001b[0m \u001b[32m━━━━━━━━━━━━━━━━━━━━\u001b[0m\u001b[37m\u001b[0m \u001b[1m0s\u001b[0m 1ms/step - dense_14_binary_accuracy: 0.7414 - dense_9_binary_accuracy: 0.9690 - loss: 0.5835 \n"
     ]
    },
    {
     "data": {
      "text/plain": [
       "[0.5863441228866577, 0.7421958446502686, 0.9690470099449158]"
      ]
     },
     "execution_count": 17,
     "metadata": {},
     "output_type": "execute_result"
    }
   ],
   "source": [
    "accuracy = model_1.evaluate(X_tst,[y_otc_test,y_pain_test])\n",
    "accuracy"
   ]
  },
  {
   "cell_type": "code",
   "execution_count": null,
   "id": "aebbd8bb-dcce-4a2d-b6f0-197a03ca050c",
   "metadata": {},
   "outputs": [],
   "source": []
  }
 ],
 "metadata": {
  "kernelspec": {
   "display_name": "Python 3 (ipykernel)",
   "language": "python",
   "name": "python3"
  },
  "language_info": {
   "codemirror_mode": {
    "name": "ipython",
    "version": 3
   },
   "file_extension": ".py",
   "mimetype": "text/x-python",
   "name": "python",
   "nbconvert_exporter": "python",
   "pygments_lexer": "ipython3",
   "version": "3.11.7"
  }
 },
 "nbformat": 4,
 "nbformat_minor": 5
}
